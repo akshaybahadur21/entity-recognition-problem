{
 "cells": [
  {
   "cell_type": "markdown",
   "metadata": {},
   "source": [
    "## Exploratory Data Analysis:\n",
    "I plotted label vs frequency graphs and most frequent words.<br>\n",
    "We can see that the data is very imbalanced. <br><br><br>\n",
    "## Feature Extraction:\n",
    "1. **Orthographic Vector:** <br>\n",
    "It basically checks on each position of the string, what character is present. <br>\n",
    "'x' - > ASCII characters, <br>\n",
    "'c' -> Small letters, <br>\n",
    "'C' -> Capital letters, <br>\n",
    "'n' -> Numbers, <br>\n",
    "'p' -> Punctuations<br><br>\n",
    "For example [['Hi, my name is Devashish'], ['How are you?']] will return [['CcpxccxccccxccxCcccccccc'], ['Cccxcccxcccp']]<br><br>\n",
    "Then after getting the mapping, it creates a vector for it.\n",
    "[[2, 1, 4, 0, 1, 1, 0, 1, 1, 1, 1, 0, 1, 1, 0, 2, 1, 1, 1, 1], [0, 0, 0, 0, 0, 0, 0, 0, 2, 1, 1, 0, 1, 1, 1, 0, 1, 1, 1, 4]]<br>\n",
    "'x' -> 0, <br>\n",
    "'c' -> 1,<br>\n",
    "'C' -> 2,<br>\n",
    "'n' -> 3,<br>\n",
    "'p' -> 4,<br><br>\n",
    "The max length of this vector is 20 and it replaces characters from ortho mapping with numbers on that position of the string.<br><br>\n",
    "\n",
    "2. **Pos Tag: **<br>\n",
    "Position of Speech Tags.<br>\n",
    "For this I am using nltk.pos_tag.<br><br>\n",
    "Here are the definitions of each tags:<br>\n",
    "CC -> coordinating conjunction<br>\n",
    "CD -> cardinal digit<br>\n",
    "DT -> determiner<br>\n",
    "EX -> existential there (like: “there is” … think of it like “there exists”)<br>\n",
    "FW -> foreign word<br>\n",
    "IN -> preposition/subordinating conjunction<br>\n",
    "JJ -> adjective ‘big’<br>\n",
    "JJR -> adjective, comparative ‘bigger’<br>\n",
    "JJS -> adjective, superlative ‘biggest’<br>\n",
    "LS -> list marker 1)<br>\n",
    "MD -> modal could, will<br>\n",
    "NN -> noun, singular ‘desk’<br>\n",
    "NNS -> noun plural ‘desks’<br>\n",
    "NNP -> proper noun, singular ‘Harrison’<br>\n",
    "NNPS -> proper noun, plural ‘Americans’<br>\n",
    "PDT -> predeterminer ‘all the kids’<br>\n",
    "POS -> possessive ending parent’s<br>\n",
    "PRP -> personal pronoun I, he, she<br>\n",
    "PRP -> possessive pronoun my, his, hers <br>\n",
    "RB -> adverb very, silently, <br>\n",
    "RBR -> adverb, comparative better <br>\n",
    "RBS -> adverb, superlative best<br>\n",
    "RP -> particle give up TO, to go ‘to’ the store.<br>\n",
    "UH -> interjection, errrrrrrrm<br>\n",
    "VB -> verb, base form take<br>\n",
    "VBD -> verb, past tense took<br>\n",
    "VBG -> verb, gerund/present participle taking<br>\n",
    "VBN -> verb, past participle taken<br>\n",
    "VBP -> verb, sing. present, non-3d take<br>\n",
    "VBZ -> verb, 3rd person sing. present takes<br>\n",
    "WDT -> wh-determiner which<br>\n",
    "WP -> possessive wh-pronoun whose<br>\n",
    "WRB -> wh-abverb where, when<br><br>\n",
    "\n",
    "## Solutions:\n",
    "1. **Method 1: Normal Classification:**<br>\n",
    "I am using support vector classification for this.<br>\n",
    "Evaluation: Recall is very low and we have many false negatives<br><br>\n",
    "2. **Method 2: Downsampled Classification:**<br>\n",
    "Since we are dealing with imbalanced data, I have downsampled the class with label('O') and am using support vector classification for this.<br>\n",
    "Evaluation: Accuracy is very less.<br><br>\n",
    "3. **Method 3: Upsampled Classification:**<br>\n",
    "Since we are dealing with imbalanced data, I have upsampled the minority and am using naive bayes classification because the number of samples increases for this.<br>\n",
    "Evaluation: Accuracy is very less.<br><br>\n",
    "4. **Method 4: Penalized Classification:**<br>\n",
    "Since we are dealing with imbalanced data, I tried penalizing the training model. I used SVC for this with class_weight='balanced'. But it took forever to run so I decided to skip this.<br>\n",
    "Evaluation: Too much time.<br><br>\n",
    "5. **Method 5: Random Forest:**<br>\n",
    "Since the data in imbalanced, random forest is a good algorithm for this.<br>\n",
    "Evaluation: It performed better than all the other models till now. It was able to classify other labels also.<br><br>\n",
    "6. **Method 6: Reading text as tweets:**<br>\n",
    "For this, I refered to http://noisy-text.github.io/2017/pdf/WNUT19.pdf.<br>\n",
    "I have implemented a multi task neural network that aims at generating named entities in user generated text. <br>\n",
    "The model captures some orthographic features at the character level by using convulation neural network, PoS features by using Bidirectional Long-Short Term Memory.Once the network is trained, I used it as a feature extractor to feed a Conditional Random Fields (CRF) classifier.\n",
    "<br><br>\n",
    "For example: Lets consider the two texts 'Hi Paris' and 'Welcome to Paris'. <br>\n",
    "Here in the first text, 'Paris' can be reffered as Name entity and in the second text, 'Paris' can be reffered as Location entitity. <br>\n",
    "This gave me an idea that the outputs from the previous word/layer makes difference in identifying the entity.\n",
    "<br>\n",
    "Evaluation: It performed decent and as it made the most sense, I decided to go with this.<br><br><br>\n",
    "\n",
    "\n",
    "## Evaluation: \n",
    "For evaluation, since this is very imbalanced data, I have used confusion matrix to check false negatives. I have also used accuracy for some cases.<br>\n",
    "**All the models had many false negatives. For future improvement, I should extract some more features. ** <br><br>\n",
    "\n",
    "\n",
    "## Bonus:\n",
    "For bonus, I clustered the predicted labels based on their probabilities. I used KMeans clustering.\n",
    "\n",
    "\n",
    "## Some more insights:\n",
    "Top likely transitions:<br>\n",
    "B-person -> I-person 3.936851<br>\n",
    "B-location -> I-location 2.291192<br>\n",
    "I-product -> I-product 1.705511<br>\n",
    "O      -> O       1.632621<br>\n",
    "B-creative-work -> I-creative-work 1.417550<br>\n",
    "I-creative-work -> I-creative-work 1.386468<br>\n",
    "B-group -> I-group 1.333125<br>\n",
    "B-product -> I-product 1.057185<br>\n",
    "I-location -> I-location 0.951327<br>\n",
    "I-group -> I-group 0.726022<br>\n",
    "O      -> B-person 0.531396<br>\n",
    "B-corporation -> I-corporation 0.516798<br>\n",
    "O      -> B-location 0.494253<br>\n",
    "O      -> B-group 0.371175<br>\n",
    "O      -> B-corporation 0.290107<br>\n",
    "<br><br>\n",
    "Top unlikely transitions:<br>\n",
    "B-location -> B-person -0.140064<br>\n",
    "B-person -> B-location -0.142025<br>\n",
    "B-group -> O       -0.152444<br>\n",
    "B-person -> B-person -0.153057<br>\n",
    "I-group -> O       -0.157578<br>\n",
    "I-creative-work -> O       -0.238135<br>\n",
    "I-product -> O       -0.587993<br>\n",
    "B-product -> O       -0.602447<br>\n",
    "B-creative-work -> O       -1.781312<br>\n",
    "O      -> I-corporation -2.033485<br>\n",
    "O      -> I-group -2.725038<br>\n",
    "O      -> I-product -3.081457<br>\n",
    "O      -> I-creative-work -3.115185<br>\n",
    "O      -> I-location -3.260909<br>\n",
    "O      -> I-person -3.946296<br>"
   ]
  },
  {
   "cell_type": "markdown",
   "metadata": {},
   "source": [
    "#  "
   ]
  },
  {
   "cell_type": "markdown",
   "metadata": {},
   "source": [
    "#  "
   ]
  },
  {
   "cell_type": "code",
   "execution_count": 1,
   "metadata": {},
   "outputs": [
    {
     "name": "stderr",
     "output_type": "stream",
     "text": [
      "Using TensorFlow backend.\n"
     ]
    }
   ],
   "source": [
    "import warnings\n",
    "warnings.filterwarnings('ignore')\n",
    "\n",
    "import csv\n",
    "import re\n",
    "import string\n",
    "import sys\n",
    "from collections import Counter\n",
    "from collections import defaultdict as ddict\n",
    "from itertools import groupby\n",
    "\n",
    "import matplotlib.pyplot as plt\n",
    "import numpy as np\n",
    "import pandas as pd\n",
    "import pycrfsuite as crf\n",
    "import seaborn as sn\n",
    "from keras import backend as K\n",
    "from keras.callbacks import EarlyStopping, ModelCheckpoint\n",
    "from keras.initializers import RandomUniform\n",
    "from keras.layers import (LSTM, Bidirectional, Conv1D, Dense, Dropout,\n",
    "                          Embedding, Flatten, Input)\n",
    "from keras.layers.merge import concatenate\n",
    "from keras.layers.pooling import GlobalAveragePooling1D\n",
    "from keras.models import Model\n",
    "from keras.optimizers import Adamax\n",
    "from keras.preprocessing import sequence\n",
    "from keras.preprocessing.sequence import pad_sequences\n",
    "from keras.utils import to_categorical\n",
    "from nltk import pos_tag, word_tokenize\n",
    "from nltk.probability import FreqDist\n",
    "from pycrfsuite import ItemSequence\n",
    "from sklearn import model_selection, svm\n",
    "from sklearn.cluster import KMeans\n",
    "from sklearn.ensemble import RandomForestClassifier\n",
    "from sklearn.metrics import (accuracy_score, classification_report,\n",
    "                             confusion_matrix)\n",
    "from sklearn.naive_bayes import MultinomialNB\n",
    "from sklearn.preprocessing import LabelBinarizer, MultiLabelBinarizer\n",
    "from sklearn.utils import resample\n"
   ]
  },
  {
   "cell_type": "code",
   "execution_count": 2,
   "metadata": {},
   "outputs": [],
   "source": [
    "seed_number = 1337\n",
    "np.random.seed(seed_number)\n",
    "experiment = 'notebook'"
   ]
  },
  {
   "cell_type": "markdown",
   "metadata": {},
   "source": [
    "#  "
   ]
  },
  {
   "cell_type": "markdown",
   "metadata": {},
   "source": [
    "# Exploratory Data Analysis"
   ]
  },
  {
   "cell_type": "markdown",
   "metadata": {},
   "source": [
    "### Reading the text file"
   ]
  },
  {
   "cell_type": "code",
   "execution_count": 3,
   "metadata": {},
   "outputs": [],
   "source": [
    "# Use quoting because the file has \" as text\n",
    "df = pd.read_csv('train.txt', sep='\\t', header=None, quoting=csv.QUOTE_NONE)\n",
    "df.columns = ['text', 'label']\n",
    "df = df.dropna()\n",
    "df = df.reset_index(drop=True)\n",
    "\n",
    "# Creating a new column 'labels' for changing label to integer classes\n",
    "labels_set = set(df['label'])\n",
    "labels_hash = {k: v for v, k in enumerate(list(labels_set))}\n",
    "df['labels'] = df['label'].map(labels_hash)"
   ]
  },
  {
   "cell_type": "markdown",
   "metadata": {},
   "source": [
    "### Checking the counts of each classes"
   ]
  },
  {
   "cell_type": "code",
   "execution_count": 4,
   "metadata": {},
   "outputs": [
    {
     "data": {
      "text/html": [
       "<div>\n",
       "<style scoped>\n",
       "    .dataframe tbody tr th:only-of-type {\n",
       "        vertical-align: middle;\n",
       "    }\n",
       "\n",
       "    .dataframe tbody tr th {\n",
       "        vertical-align: top;\n",
       "    }\n",
       "\n",
       "    .dataframe thead th {\n",
       "        text-align: right;\n",
       "    }\n",
       "</style>\n",
       "<table border=\"1\" class=\"dataframe\">\n",
       "  <thead>\n",
       "    <tr style=\"text-align: right;\">\n",
       "      <th></th>\n",
       "      <th>text</th>\n",
       "      <th>labels</th>\n",
       "    </tr>\n",
       "    <tr>\n",
       "      <th>label</th>\n",
       "      <th></th>\n",
       "      <th></th>\n",
       "    </tr>\n",
       "  </thead>\n",
       "  <tbody>\n",
       "    <tr>\n",
       "      <th>B-corporation</th>\n",
       "      <td>221</td>\n",
       "      <td>221</td>\n",
       "    </tr>\n",
       "    <tr>\n",
       "      <th>B-creative-work</th>\n",
       "      <td>140</td>\n",
       "      <td>140</td>\n",
       "    </tr>\n",
       "    <tr>\n",
       "      <th>B-group</th>\n",
       "      <td>264</td>\n",
       "      <td>264</td>\n",
       "    </tr>\n",
       "    <tr>\n",
       "      <th>B-location</th>\n",
       "      <td>548</td>\n",
       "      <td>548</td>\n",
       "    </tr>\n",
       "    <tr>\n",
       "      <th>B-person</th>\n",
       "      <td>660</td>\n",
       "      <td>660</td>\n",
       "    </tr>\n",
       "    <tr>\n",
       "      <th>B-product</th>\n",
       "      <td>142</td>\n",
       "      <td>142</td>\n",
       "    </tr>\n",
       "    <tr>\n",
       "      <th>I-corporation</th>\n",
       "      <td>46</td>\n",
       "      <td>46</td>\n",
       "    </tr>\n",
       "    <tr>\n",
       "      <th>I-creative-work</th>\n",
       "      <td>206</td>\n",
       "      <td>206</td>\n",
       "    </tr>\n",
       "    <tr>\n",
       "      <th>I-group</th>\n",
       "      <td>150</td>\n",
       "      <td>150</td>\n",
       "    </tr>\n",
       "    <tr>\n",
       "      <th>I-location</th>\n",
       "      <td>245</td>\n",
       "      <td>245</td>\n",
       "    </tr>\n",
       "    <tr>\n",
       "      <th>I-person</th>\n",
       "      <td>335</td>\n",
       "      <td>335</td>\n",
       "    </tr>\n",
       "    <tr>\n",
       "      <th>I-product</th>\n",
       "      <td>203</td>\n",
       "      <td>203</td>\n",
       "    </tr>\n",
       "    <tr>\n",
       "      <th>O</th>\n",
       "      <td>59565</td>\n",
       "      <td>59565</td>\n",
       "    </tr>\n",
       "  </tbody>\n",
       "</table>\n",
       "</div>"
      ],
      "text/plain": [
       "                  text  labels\n",
       "label                         \n",
       "B-corporation      221     221\n",
       "B-creative-work    140     140\n",
       "B-group            264     264\n",
       "B-location         548     548\n",
       "B-person           660     660\n",
       "B-product          142     142\n",
       "I-corporation       46      46\n",
       "I-creative-work    206     206\n",
       "I-group            150     150\n",
       "I-location         245     245\n",
       "I-person           335     335\n",
       "I-product          203     203\n",
       "O                59565   59565"
      ]
     },
     "execution_count": 4,
     "metadata": {},
     "output_type": "execute_result"
    }
   ],
   "source": [
    "df.groupby('label').count()"
   ]
  },
  {
   "cell_type": "markdown",
   "metadata": {},
   "source": [
    "### Plotting the classes on a bar chart"
   ]
  },
  {
   "cell_type": "code",
   "execution_count": 5,
   "metadata": {},
   "outputs": [
    {
     "data": {
      "text/plain": [
       "Text(0,0.5,'Frequency')"
      ]
     },
     "execution_count": 5,
     "metadata": {},
     "output_type": "execute_result"
    },
    {
     "data": {
      "image/png": "[encoded data removed]",
      "text/plain": [
       "<Figure size 1008x576 with 1 Axes>"
      ]
     },
     "metadata": {},
     "output_type": "display_data"
    }
   ],
   "source": [
    "ax = df['label'].value_counts().plot(kind='bar',\n",
    "                                    figsize=(14,8),\n",
    "                                    title=\"Number for each Labels\")\n",
    "ax.set_xlabel(\"Labels\")\n",
    "ax.set_ylabel(\"Frequency\")"
   ]
  },
  {
   "cell_type": "code",
   "execution_count": 6,
   "metadata": {},
   "outputs": [
    {
     "data": {
      "text/plain": [
       "Text(0,0.5,'Frequency')"
      ]
     },
     "execution_count": 6,
     "metadata": {},
     "output_type": "execute_result"
    },
    {
     "data": {
      "image/png": "[encoded data removed]",
      "text/plain": [
       "<Figure size 1008x576 with 1 Axes>"
      ]
     },
     "metadata": {},
     "output_type": "display_data"
    }
   ],
   "source": [
    "ax = df[df['label']!='O']['label'].value_counts().plot(kind='bar',\n",
    "                                    figsize=(14,8),\n",
    "                                    title=\"Number for each Labels\")\n",
    "ax.set_xlabel(\"Labels\")\n",
    "ax.set_ylabel(\"Frequency\")"
   ]
  },
  {
   "cell_type": "markdown",
   "metadata": {},
   "source": [
    "### We can see the data is pretty imbalanced. Most of the labels are 'O'"
   ]
  },
  {
   "cell_type": "markdown",
   "metadata": {},
   "source": [
    "### Plotting the most frequent words"
   ]
  },
  {
   "cell_type": "code",
   "execution_count": 7,
   "metadata": {},
   "outputs": [
    {
     "name": "stdout",
     "output_type": "stream",
     "text": [
      "[('.', 1936), (',', 1274), (':', 1163), ('the', 1114), ('to', 1055), ('I', 876), ('a', 851), ('!', 821), ('RT', 690), ('and', 609), ('you', 577), ('in', 564), ('...', 543), ('for', 534), ('on', 498), ('it', 478), ('of', 461), (\"'s\", 451), ('is', 417), ('at', 394), ('my', 366), ('?', 335), ('be', 323), ('when', 300), ('day', 280), ('i', 274), ('\"', 263), ('time', 261), ('that', 257), ('me', 240)]\n"
     ]
    },
    {
     "data": {
      "image/png": "[encoded data removed]",
      "text/plain": [
       "<Figure size 1008x576 with 1 Axes>"
      ]
     },
     "metadata": {},
     "output_type": "display_data"
    }
   ],
   "source": [
    "fdist = FreqDist(df['text'])\n",
    "\n",
    "print(fdist.most_common(30))\n",
    "plt.figure(figsize=(14,8))\n",
    "fdist.plot(30,cumulative=False, )\n",
    "plt.show()"
   ]
  },
  {
   "cell_type": "markdown",
   "metadata": {},
   "source": [
    "#  "
   ]
  },
  {
   "cell_type": "markdown",
   "metadata": {},
   "source": [
    "#  "
   ]
  },
  {
   "cell_type": "markdown",
   "metadata": {},
   "source": [
    "#  "
   ]
  },
  {
   "cell_type": "markdown",
   "metadata": {},
   "source": [
    "# Extracting Features"
   ]
  },
  {
   "cell_type": "markdown",
   "metadata": {},
   "source": [
    "### Feature 1: Orthographic Vector"
   ]
  },
  {
   "cell_type": "code",
   "execution_count": 8,
   "metadata": {},
   "outputs": [],
   "source": [
    "def orthigraphic_char(ch):\n",
    "    try:\n",
    "        if re.match('[a-z]', ch):\n",
    "            return 'c'\n",
    "        if re.match('[A-Z]', ch):\n",
    "            return 'C'\n",
    "        if re.match('[0-9]', ch):\n",
    "            return 'n'\n",
    "        if ch in string.punctuation:\n",
    "            return 'p'\n",
    "    except TypeError:\n",
    "        print('TypeError:',ch)\n",
    "    return 'x'\n",
    "    \n",
    "def orthographic_tweet(tweet):\n",
    "    return [''.join([orthigraphic_char(ch) for ch in token]) for token in tweet]\n",
    "    \n",
    "def orthographic_mapping(tweets):\n",
    "    return [orthographic_tweet(tweet) for tweet in tweets]"
   ]
  },
  {
   "cell_type": "code",
   "execution_count": 9,
   "metadata": {},
   "outputs": [],
   "source": [
    "# Create the mapping first\n",
    "df['ortho_mapping'] = orthographic_mapping(df['text'])"
   ]
  },
  {
   "cell_type": "code",
   "execution_count": 10,
   "metadata": {},
   "outputs": [],
   "source": [
    "# Creating the vector\n",
    "ortho_max_length = 20\n",
    "\n",
    "index2ortho = ['x', 'c', 'C', 'n', 'p']\n",
    "ortho2index = ddict(lambda: 0, {o:i for i,o in enumerate(index2ortho)})\n",
    "\n",
    "def encode_tokens(token2index, tokens):\n",
    "    return [[token2index[tkn] for tkn in tkns] for tkns in tokens]\n",
    "\n",
    "def padding(padded_list, ortho2index, array):\n",
    "    a = []\n",
    "    for x in encode_tokens(ortho2index, array):\n",
    "        if len(x) <= len(padded_list):\n",
    "            temp = padded_list[:len(padded_list) - len(x)] + x\n",
    "        else:\n",
    "            temp = x[:len(padded_list)]\n",
    "        a.append(temp[:len(padded_list)])\n",
    "    return a\n",
    "\n",
    "df['orto_vector'] = padding([0]*20, ortho2index, df['ortho_mapping'])\n"
   ]
  },
  {
   "cell_type": "markdown",
   "metadata": {},
   "source": [
    "### Feature 2: Pos Tag:"
   ]
  },
  {
   "cell_type": "code",
   "execution_count": 11,
   "metadata": {},
   "outputs": [],
   "source": [
    "df['pos'] = pos_tag(df['text'].astype(str))\n",
    "df[['word', 'pos_tag']] = pd.DataFrame(df.pos.tolist(), columns=['word', 'pos_tag'])\n",
    "df.loc[df['text'].astype(str).str[0] == '@', 'pos_tag'] = '@'\n",
    "\n",
    "pos_set_df = set(df['pos_tag'])\n",
    "pos_hash_df = {k: v for v, k in enumerate(list(pos_set_df))}\n",
    "df['pos_class'] = df['pos_tag'].map(pos_hash_df)\n"
   ]
  },
  {
   "cell_type": "code",
   "execution_count": 12,
   "metadata": {},
   "outputs": [
    {
     "data": {
      "text/html": [
       "<div>\n",
       "<style scoped>\n",
       "    .dataframe tbody tr th:only-of-type {\n",
       "        vertical-align: middle;\n",
       "    }\n",
       "\n",
       "    .dataframe tbody tr th {\n",
       "        vertical-align: top;\n",
       "    }\n",
       "\n",
       "    .dataframe thead th {\n",
       "        text-align: right;\n",
       "    }\n",
       "</style>\n",
       "<table border=\"1\" class=\"dataframe\">\n",
       "  <thead>\n",
       "    <tr style=\"text-align: right;\">\n",
       "      <th></th>\n",
       "      <th>text</th>\n",
       "      <th>label</th>\n",
       "      <th>labels</th>\n",
       "      <th>ortho_mapping</th>\n",
       "      <th>orto_vector</th>\n",
       "      <th>pos</th>\n",
       "      <th>word</th>\n",
       "      <th>pos_tag</th>\n",
       "      <th>pos_class</th>\n",
       "    </tr>\n",
       "  </thead>\n",
       "  <tbody>\n",
       "    <tr>\n",
       "      <th>0</th>\n",
       "      <td>@paulwalk</td>\n",
       "      <td>O</td>\n",
       "      <td>8</td>\n",
       "      <td>[p, c, c, c, c, c, c, c, c]</td>\n",
       "      <td>[0, 0, 0, 0, 0, 0, 0, 0, 0, 0, 0, 4, 1, 1, 1, ...</td>\n",
       "      <td>(@paulwalk, VB)</td>\n",
       "      <td>@paulwalk</td>\n",
       "      <td>@</td>\n",
       "      <td>23</td>\n",
       "    </tr>\n",
       "    <tr>\n",
       "      <th>1</th>\n",
       "      <td>It</td>\n",
       "      <td>O</td>\n",
       "      <td>8</td>\n",
       "      <td>[C, c]</td>\n",
       "      <td>[0, 0, 0, 0, 0, 0, 0, 0, 0, 0, 0, 0, 0, 0, 0, ...</td>\n",
       "      <td>(It, PRP)</td>\n",
       "      <td>It</td>\n",
       "      <td>PRP</td>\n",
       "      <td>33</td>\n",
       "    </tr>\n",
       "    <tr>\n",
       "      <th>2</th>\n",
       "      <td>'s</td>\n",
       "      <td>O</td>\n",
       "      <td>8</td>\n",
       "      <td>[p, c]</td>\n",
       "      <td>[0, 0, 0, 0, 0, 0, 0, 0, 0, 0, 0, 0, 0, 0, 0, ...</td>\n",
       "      <td>('s, VBZ)</td>\n",
       "      <td>'s</td>\n",
       "      <td>VBZ</td>\n",
       "      <td>41</td>\n",
       "    </tr>\n",
       "    <tr>\n",
       "      <th>3</th>\n",
       "      <td>the</td>\n",
       "      <td>O</td>\n",
       "      <td>8</td>\n",
       "      <td>[c, c, c]</td>\n",
       "      <td>[0, 0, 0, 0, 0, 0, 0, 0, 0, 0, 0, 0, 0, 0, 0, ...</td>\n",
       "      <td>(the, DT)</td>\n",
       "      <td>the</td>\n",
       "      <td>DT</td>\n",
       "      <td>12</td>\n",
       "    </tr>\n",
       "    <tr>\n",
       "      <th>4</th>\n",
       "      <td>view</td>\n",
       "      <td>O</td>\n",
       "      <td>8</td>\n",
       "      <td>[c, c, c, c]</td>\n",
       "      <td>[0, 0, 0, 0, 0, 0, 0, 0, 0, 0, 0, 0, 0, 0, 0, ...</td>\n",
       "      <td>(view, NN)</td>\n",
       "      <td>view</td>\n",
       "      <td>NN</td>\n",
       "      <td>15</td>\n",
       "    </tr>\n",
       "  </tbody>\n",
       "</table>\n",
       "</div>"
      ],
      "text/plain": [
       "        text label  labels                ortho_mapping  \\\n",
       "0  @paulwalk     O       8  [p, c, c, c, c, c, c, c, c]   \n",
       "1         It     O       8                       [C, c]   \n",
       "2         's     O       8                       [p, c]   \n",
       "3        the     O       8                    [c, c, c]   \n",
       "4       view     O       8                 [c, c, c, c]   \n",
       "\n",
       "                                         orto_vector              pos  \\\n",
       "0  [0, 0, 0, 0, 0, 0, 0, 0, 0, 0, 0, 4, 1, 1, 1, ...  (@paulwalk, VB)   \n",
       "1  [0, 0, 0, 0, 0, 0, 0, 0, 0, 0, 0, 0, 0, 0, 0, ...        (It, PRP)   \n",
       "2  [0, 0, 0, 0, 0, 0, 0, 0, 0, 0, 0, 0, 0, 0, 0, ...        ('s, VBZ)   \n",
       "3  [0, 0, 0, 0, 0, 0, 0, 0, 0, 0, 0, 0, 0, 0, 0, ...        (the, DT)   \n",
       "4  [0, 0, 0, 0, 0, 0, 0, 0, 0, 0, 0, 0, 0, 0, 0, ...       (view, NN)   \n",
       "\n",
       "        word pos_tag  pos_class  \n",
       "0  @paulwalk       @         23  \n",
       "1         It     PRP         33  \n",
       "2         's     VBZ         41  \n",
       "3        the      DT         12  \n",
       "4       view      NN         15  "
      ]
     },
     "execution_count": 12,
     "metadata": {},
     "output_type": "execute_result"
    }
   ],
   "source": [
    "df.head()"
   ]
  },
  {
   "cell_type": "markdown",
   "metadata": {},
   "source": [
    "#### Plotting pos_class with lables"
   ]
  },
  {
   "cell_type": "code",
   "execution_count": 13,
   "metadata": {},
   "outputs": [
    {
     "data": {
      "image/png": "[encoded data removed]",
      "text/plain": [
       "<Figure size 1008x576 with 1 Axes>"
      ]
     },
     "metadata": {},
     "output_type": "display_data"
    }
   ],
   "source": [
    "ax = df[df['label']=='O']['pos_class'].value_counts().plot(kind='bar',\n",
    "                                    figsize=(14,8),\n",
    "                                    title=\"Number for each POS Class\", color='g', label='Class O')\n",
    "ax = df[df['label']!='O']['pos_class'].value_counts().plot(kind='bar',\n",
    "                                    figsize=(14,8),\n",
    "                                    title=\"Number for each POS Class\", color='b', label='Other Classes')\n",
    "ax.set_xlabel(\"POS Class\")\n",
    "ax.set_ylabel(\"Frequency\")\n",
    "legend = ax.legend()"
   ]
  },
  {
   "cell_type": "markdown",
   "metadata": {},
   "source": [
    "# Creating Feature and label dataframe"
   ]
  },
  {
   "cell_type": "code",
   "execution_count": 14,
   "metadata": {},
   "outputs": [],
   "source": [
    "# Appling hot encoding on ortho vector\n",
    "final_df = pd.get_dummies(df['orto_vector'].apply(pd.Series).stack()).sum(level=0)\n",
    "\n",
    "final_df['pos_class'] = df['pos_class']\n",
    "final_df['labels'] = df['labels']"
   ]
  },
  {
   "cell_type": "markdown",
   "metadata": {},
   "source": [
    "#  "
   ]
  },
  {
   "cell_type": "markdown",
   "metadata": {},
   "source": [
    "#  "
   ]
  },
  {
   "cell_type": "markdown",
   "metadata": {},
   "source": [
    "#  "
   ]
  },
  {
   "cell_type": "markdown",
   "metadata": {},
   "source": [
    "#  "
   ]
  },
  {
   "cell_type": "markdown",
   "metadata": {},
   "source": [
    "# Solutions"
   ]
  },
  {
   "cell_type": "markdown",
   "metadata": {},
   "source": [
    "## Method 1: Normal Classification\n"
   ]
  },
  {
   "cell_type": "code",
   "execution_count": 15,
   "metadata": {},
   "outputs": [],
   "source": [
    "def model(df):\n",
    "    X_train, X_test, y_train, y_test = model_selection.train_test_split(df.drop('labels', axis=1),df['labels'],test_size=0.2)\n",
    "\n",
    "    clf = svm.SVC(C=5, kernel='linear', gamma=0.05)\n",
    "    clf.fit(X_train, y_train)\n",
    "\n",
    "    y_pred = clf.predict(X_test)\n",
    "\n",
    "    print('accuracy %s' % accuracy_score(y_pred, y_test))\n",
    "    print(classification_report(y_test, y_pred))\n",
    "\n",
    "    cm = confusion_matrix(y_test, y_pred)\n",
    "\n",
    "    plt.figure(figsize = (16,16))\n",
    "    sn.heatmap(cm, annot=True,  fmt='g')"
   ]
  },
  {
   "cell_type": "code",
   "execution_count": 16,
   "metadata": {},
   "outputs": [
    {
     "name": "stdout",
     "output_type": "stream",
     "text": [
      "accuracy 0.9500996412913512\n",
      "              precision    recall  f1-score   support\n",
      "\n",
      "           0       0.00      0.00      0.00       109\n",
      "           1       0.00      0.00      0.00        38\n",
      "           2       0.00      0.00      0.00        39\n",
      "           3       0.00      0.00      0.00        46\n",
      "           4       0.00      0.00      0.00       133\n",
      "           5       0.00      0.00      0.00        70\n",
      "           6       0.00      0.00      0.00        30\n",
      "           7       0.00      0.00      0.00        35\n",
      "           8       0.95      1.00      0.97     11919\n",
      "           9       0.00      0.00      0.00        32\n",
      "          10       0.00      0.00      0.00        11\n",
      "          11       0.00      0.00      0.00        26\n",
      "          12       0.00      0.00      0.00        57\n",
      "\n",
      "    accuracy                           0.95     12545\n",
      "   macro avg       0.07      0.08      0.07     12545\n",
      "weighted avg       0.90      0.95      0.93     12545\n",
      "\n"
     ]
    },
    {
     "name": "stderr",
     "output_type": "stream",
     "text": [
      "/Users/devashish/anaconda3/lib/python3.6/site-packages/sklearn/metrics/classification.py:1437: UndefinedMetricWarning: Precision and F-score are ill-defined and being set to 0.0 in labels with no predicted samples.\n",
      "  'precision', 'predicted', average, warn_for)\n",
      "/Users/devashish/anaconda3/lib/python3.6/site-packages/sklearn/metrics/classification.py:1437: UndefinedMetricWarning: Precision and F-score are ill-defined and being set to 0.0 in labels with no predicted samples.\n",
      "  'precision', 'predicted', average, warn_for)\n",
      "/Users/devashish/anaconda3/lib/python3.6/site-packages/sklearn/metrics/classification.py:1437: UndefinedMetricWarning: Precision and F-score are ill-defined and being set to 0.0 in labels with no predicted samples.\n",
      "  'precision', 'predicted', average, warn_for)\n"
     ]
    },
    {
     "data": {
      "image/png": "[encoded data removed]",
      "text/plain": [
       "<Figure size 1152x1152 with 2 Axes>"
      ]
     },
     "metadata": {},
     "output_type": "display_data"
    }
   ],
   "source": [
    "model(final_df)"
   ]
  },
  {
   "cell_type": "markdown",
   "metadata": {},
   "source": [
    "#  "
   ]
  },
  {
   "cell_type": "markdown",
   "metadata": {},
   "source": [
    "#  "
   ]
  },
  {
   "cell_type": "markdown",
   "metadata": {},
   "source": [
    "#  "
   ]
  },
  {
   "cell_type": "markdown",
   "metadata": {},
   "source": [
    "## Method 2: Downsampling"
   ]
  },
  {
   "cell_type": "code",
   "execution_count": 17,
   "metadata": {},
   "outputs": [],
   "source": [
    "def mostFrequent(arr): \n",
    "  \n",
    "    # Insert all elements in Hash. \n",
    "    n = len(arr)\n",
    "    Hash = dict() \n",
    "    for i in range(n): \n",
    "        if arr[i] in Hash.keys(): \n",
    "            Hash[arr[i]] += 1\n",
    "        else: \n",
    "            Hash[arr[i]] = 1\n",
    "  \n",
    "    # find the max frequency \n",
    "    max_count = 0\n",
    "    res = -1\n",
    "    for i in Hash:  \n",
    "        if (max_count < Hash[i]):  \n",
    "            res = i \n",
    "            max_count = Hash[i] \n",
    "          \n",
    "    return res "
   ]
  },
  {
   "cell_type": "code",
   "execution_count": 18,
   "metadata": {},
   "outputs": [
    {
     "data": {
      "text/plain": [
       "8     3160\n",
       "4      660\n",
       "0      548\n",
       "5      335\n",
       "3      264\n",
       "12     245\n",
       "6      221\n",
       "1      206\n",
       "2      203\n",
       "9      150\n",
       "7      142\n",
       "11     140\n",
       "10      46\n",
       "Name: labels, dtype: int64"
      ]
     },
     "execution_count": 18,
     "metadata": {},
     "output_type": "execute_result"
    }
   ],
   "source": [
    "most_freq = mostFrequent(final_df.labels)\n",
    "df_majority = final_df[final_df.labels==most_freq]\n",
    "df_minority = final_df[final_df.labels!=most_freq]\n",
    "\n",
    "\n",
    "\n",
    "df_majority_downsampled = resample(df_majority, \n",
    "                                 replace=False,    # sample without replacement\n",
    "                                 n_samples=df_minority.labels.value_counts().sum(),     # to match minority class\n",
    "                                 random_state=123) # reproducible results\n",
    " \n",
    "# Combine minority class with downsampled majority class\n",
    "df_downsampled = pd.concat([df_majority_downsampled, df_minority])\n",
    " \n",
    "# Display new class counts\n",
    "df_downsampled.labels.value_counts()"
   ]
  },
  {
   "cell_type": "code",
   "execution_count": 19,
   "metadata": {},
   "outputs": [
    {
     "name": "stdout",
     "output_type": "stream",
     "text": [
      "accuracy 0.5063291139240507\n",
      "              precision    recall  f1-score   support\n",
      "\n",
      "           0       0.00      0.00      0.00       111\n",
      "           1       0.00      0.00      0.00        39\n",
      "           2       0.00      0.00      0.00        28\n",
      "           3       0.00      0.00      0.00        52\n",
      "           4       0.00      0.00      0.00       133\n",
      "           5       0.00      0.00      0.00        59\n",
      "           6       0.00      0.00      0.00        46\n",
      "           7       0.00      0.00      0.00        40\n",
      "           8       0.51      1.00      0.67       640\n",
      "           9       0.00      0.00      0.00        26\n",
      "          10       0.00      0.00      0.00         8\n",
      "          11       0.00      0.00      0.00        29\n",
      "          12       0.00      0.00      0.00        53\n",
      "\n",
      "    accuracy                           0.51      1264\n",
      "   macro avg       0.04      0.08      0.05      1264\n",
      "weighted avg       0.26      0.51      0.34      1264\n",
      "\n"
     ]
    },
    {
     "name": "stderr",
     "output_type": "stream",
     "text": [
      "/Users/devashish/anaconda3/lib/python3.6/site-packages/sklearn/metrics/classification.py:1437: UndefinedMetricWarning: Precision and F-score are ill-defined and being set to 0.0 in labels with no predicted samples.\n",
      "  'precision', 'predicted', average, warn_for)\n",
      "/Users/devashish/anaconda3/lib/python3.6/site-packages/sklearn/metrics/classification.py:1437: UndefinedMetricWarning: Precision and F-score are ill-defined and being set to 0.0 in labels with no predicted samples.\n",
      "  'precision', 'predicted', average, warn_for)\n",
      "/Users/devashish/anaconda3/lib/python3.6/site-packages/sklearn/metrics/classification.py:1437: UndefinedMetricWarning: Precision and F-score are ill-defined and being set to 0.0 in labels with no predicted samples.\n",
      "  'precision', 'predicted', average, warn_for)\n"
     ]
    },
    {
     "data": {
      "image/png": "[encoded data removed]",
      "text/plain": [
       "<Figure size 1152x1152 with 2 Axes>"
      ]
     },
     "metadata": {},
     "output_type": "display_data"
    }
   ],
   "source": [
    "model(df_downsampled)"
   ]
  },
  {
   "cell_type": "markdown",
   "metadata": {},
   "source": [
    "#  "
   ]
  },
  {
   "cell_type": "markdown",
   "metadata": {},
   "source": [
    "#  "
   ]
  },
  {
   "cell_type": "markdown",
   "metadata": {},
   "source": [
    "#  "
   ]
  },
  {
   "cell_type": "markdown",
   "metadata": {},
   "source": [
    "## Method 3: Upsampling"
   ]
  },
  {
   "cell_type": "code",
   "execution_count": 20,
   "metadata": {},
   "outputs": [
    {
     "data": {
      "text/plain": [
       "8     59565\n",
       "4     12484\n",
       "0     10447\n",
       "5      6269\n",
       "3      4936\n",
       "12     4544\n",
       "6      4180\n",
       "2      3898\n",
       "1      3860\n",
       "9      2770\n",
       "11     2676\n",
       "7      2674\n",
       "10      827\n",
       "Name: labels, dtype: int64"
      ]
     },
     "execution_count": 20,
     "metadata": {},
     "output_type": "execute_result"
    }
   ],
   "source": [
    "df_minority_upsampled = resample(df_minority, \n",
    "                                 replace=True,     # sample with replacement\n",
    "                                 n_samples=df_majority.labels.value_counts().sum(),    # to match majority class\n",
    "                                 random_state=123)\n",
    "df_upsampled = pd.concat([df_majority, df_minority_upsampled])\n",
    " \n",
    "# Display new class counts\n",
    "df_upsampled.labels.value_counts()"
   ]
  },
  {
   "cell_type": "code",
   "execution_count": 21,
   "metadata": {},
   "outputs": [],
   "source": [
    "def nb_model(df):\n",
    "    X_train, X_test, y_train, y_test = model_selection.train_test_split(df.drop('labels', axis=1),df['labels'],test_size=0.2)\n",
    "    \n",
    "    clf = MultinomialNB()\n",
    "    clf.fit(X_train, y_train)\n",
    "\n",
    "    y_pred = clf.predict(X_test)\n",
    "\n",
    "    print('accuracy %s' % accuracy_score(y_pred, y_test))\n",
    "    print(classification_report(y_test, y_pred))\n",
    "\n",
    "    cm = confusion_matrix(y_test, y_pred)\n",
    "\n",
    "    plt.figure(figsize = (16,16))\n",
    "    sn.heatmap(cm, annot=True,  fmt='g')"
   ]
  },
  {
   "cell_type": "code",
   "execution_count": 22,
   "metadata": {},
   "outputs": [
    {
     "name": "stdout",
     "output_type": "stream",
     "text": [
      "accuracy 0.49177369260471754\n",
      "              precision    recall  f1-score   support\n",
      "\n",
      "           0       0.24      0.09      0.13      2055\n",
      "           1       0.00      0.00      0.00       795\n",
      "           2       0.08      0.07      0.07       732\n",
      "           3       0.11      0.08      0.09       954\n",
      "           4       0.11      0.06      0.07      2478\n",
      "           5       0.00      0.00      0.00      1175\n",
      "           6       0.00      0.00      0.00       814\n",
      "           7       0.00      0.00      0.00       563\n",
      "           8       0.55      0.93      0.69     12084\n",
      "           9       0.00      0.00      0.00       549\n",
      "          10       0.00      0.00      0.00       149\n",
      "          11       0.00      0.00      0.00       517\n",
      "          12       0.00      0.00      0.00       961\n",
      "\n",
      "    accuracy                           0.49     23826\n",
      "   macro avg       0.08      0.09      0.08     23826\n",
      "weighted avg       0.32      0.49      0.38     23826\n",
      "\n"
     ]
    },
    {
     "name": "stderr",
     "output_type": "stream",
     "text": [
      "/Users/devashish/anaconda3/lib/python3.6/site-packages/sklearn/metrics/classification.py:1437: UndefinedMetricWarning: Precision and F-score are ill-defined and being set to 0.0 in labels with no predicted samples.\n",
      "  'precision', 'predicted', average, warn_for)\n",
      "/Users/devashish/anaconda3/lib/python3.6/site-packages/sklearn/metrics/classification.py:1437: UndefinedMetricWarning: Precision and F-score are ill-defined and being set to 0.0 in labels with no predicted samples.\n",
      "  'precision', 'predicted', average, warn_for)\n",
      "/Users/devashish/anaconda3/lib/python3.6/site-packages/sklearn/metrics/classification.py:1437: UndefinedMetricWarning: Precision and F-score are ill-defined and being set to 0.0 in labels with no predicted samples.\n",
      "  'precision', 'predicted', average, warn_for)\n"
     ]
    },
    {
     "data": {
      "image/png": "[encoded data removed]",
      "text/plain": [
       "<Figure size 1152x1152 with 2 Axes>"
      ]
     },
     "metadata": {},
     "output_type": "display_data"
    }
   ],
   "source": [
    "nb_model(df_upsampled)"
   ]
  },
  {
   "cell_type": "markdown",
   "metadata": {},
   "source": [
    "## Method 4: Penalizing"
   ]
  },
  {
   "cell_type": "code",
   "execution_count": 23,
   "metadata": {},
   "outputs": [],
   "source": [
    "def model_penalize(df):\n",
    "    X_train, X_test, y_train, y_test = model_selection.train_test_split(df.drop('labels', axis=1),df['labels'],test_size=0.2)\n",
    "\n",
    "    clf = svm.SVC(C=5, kernel='linear', class_weight='balanced', gamma=0.05)\n",
    "    clf.fit(X_train, y_train)\n",
    "\n",
    "    y_pred = clf.predict(X_test)\n",
    "\n",
    "    print('accuracy %s' % accuracy_score(y_pred, y_test))\n",
    "    print(classification_report(y_test, y_pred))\n",
    "\n",
    "    cm = confusion_matrix(y_test, y_pred)\n",
    "\n",
    "    plt.figure(figsize = (16,16))\n",
    "    sn.heatmap(cm, annot=True,  fmt='g')"
   ]
  },
  {
   "cell_type": "code",
   "execution_count": 24,
   "metadata": {},
   "outputs": [],
   "source": [
    "# model_penalize(final_df)"
   ]
  },
  {
   "cell_type": "markdown",
   "metadata": {},
   "source": [
    "#  "
   ]
  },
  {
   "cell_type": "markdown",
   "metadata": {},
   "source": [
    "#  "
   ]
  },
  {
   "cell_type": "markdown",
   "metadata": {},
   "source": [
    "## Method 5: Random Forest"
   ]
  },
  {
   "cell_type": "code",
   "execution_count": 25,
   "metadata": {},
   "outputs": [],
   "source": [
    "def rf_model(df):\n",
    "    X_train, X_test, y_train, y_test = model_selection.train_test_split(df.drop('labels', axis=1),df['labels'],test_size=0.2)\n",
    "    \n",
    "    clf = RandomForestClassifier()\n",
    "    clf.fit(X_train, y_train)\n",
    "\n",
    "    y_pred = clf.predict(X_test)\n",
    "\n",
    "    print('accuracy %s' % accuracy_score(y_pred, y_test))\n",
    "    print(classification_report(y_test, y_pred))\n",
    "\n",
    "    cm = confusion_matrix(y_test, y_pred)\n",
    "\n",
    "    plt.figure(figsize = (16,16))\n",
    "    sn.heatmap(cm, annot=True,  fmt='g')"
   ]
  },
  {
   "cell_type": "code",
   "execution_count": 26,
   "metadata": {},
   "outputs": [
    {
     "name": "stdout",
     "output_type": "stream",
     "text": [
      "accuracy 0.9498605021921084\n",
      "              precision    recall  f1-score   support\n",
      "\n",
      "           0       0.33      0.01      0.02        96\n",
      "           1       0.00      0.00      0.00        43\n",
      "           2       0.00      0.00      0.00        42\n",
      "           3       0.00      0.00      0.00        53\n",
      "           4       0.00      0.00      0.00       127\n",
      "           5       0.00      0.00      0.00        74\n",
      "           6       0.50      0.11      0.18        47\n",
      "           7       0.00      0.00      0.00        25\n",
      "           8       0.95      1.00      0.97     11918\n",
      "           9       0.00      0.00      0.00        36\n",
      "          10       0.00      0.00      0.00         9\n",
      "          11       1.00      0.05      0.09        22\n",
      "          12       0.00      0.00      0.00        53\n",
      "\n",
      "    accuracy                           0.95     12545\n",
      "   macro avg       0.21      0.09      0.10     12545\n",
      "weighted avg       0.91      0.95      0.93     12545\n",
      "\n"
     ]
    },
    {
     "name": "stderr",
     "output_type": "stream",
     "text": [
      "/Users/devashish/anaconda3/lib/python3.6/site-packages/sklearn/metrics/classification.py:1437: UndefinedMetricWarning: Precision and F-score are ill-defined and being set to 0.0 in labels with no predicted samples.\n",
      "  'precision', 'predicted', average, warn_for)\n",
      "/Users/devashish/anaconda3/lib/python3.6/site-packages/sklearn/metrics/classification.py:1437: UndefinedMetricWarning: Precision and F-score are ill-defined and being set to 0.0 in labels with no predicted samples.\n",
      "  'precision', 'predicted', average, warn_for)\n",
      "/Users/devashish/anaconda3/lib/python3.6/site-packages/sklearn/metrics/classification.py:1437: UndefinedMetricWarning: Precision and F-score are ill-defined and being set to 0.0 in labels with no predicted samples.\n",
      "  'precision', 'predicted', average, warn_for)\n"
     ]
    },
    {
     "data": {
      "image/png": "[encoded data removed]",
      "text/plain": [
       "<Figure size 1152x1152 with 2 Axes>"
      ]
     },
     "metadata": {},
     "output_type": "display_data"
    }
   ],
   "source": [
    "rf_model(final_df)"
   ]
  },
  {
   "cell_type": "markdown",
   "metadata": {},
   "source": [
    "#  "
   ]
  },
  {
   "cell_type": "markdown",
   "metadata": {},
   "source": [
    "#  "
   ]
  },
  {
   "cell_type": "markdown",
   "metadata": {},
   "source": [
    "### All of this have many false negatives! It's very difficult to classify classes whose label is not 'O'"
   ]
  },
  {
   "cell_type": "markdown",
   "metadata": {},
   "source": [
    "## Method 6: Reading the text as tweets and using a neural network"
   ]
  },
  {
   "cell_type": "code",
   "execution_count": 27,
   "metadata": {},
   "outputs": [],
   "source": [
    "def read_file_as_lists(filename, delimiter='\\t'):\n",
    "    with open(filename) as stream:\n",
    "        reader = csv.reader(stream, delimiter=delimiter, quoting=csv.QUOTE_NONE)\n",
    "        labeled_tokens = [zip(*g) for k, g in groupby(reader, lambda x: not [s for s in x if s.strip()]) if not k]\n",
    "        tokens, labels = zip(*labeled_tokens)\n",
    "        return [list(t) for t in tokens], [list(l) for l in labels]"
   ]
  },
  {
   "cell_type": "code",
   "execution_count": 28,
   "metadata": {},
   "outputs": [],
   "source": [
    "tweets, labels = read_file_as_lists('train.txt')\n",
    "tweets_train, tweets_test, labels_train, labels_test = model_selection.train_test_split(tweets,labels,test_size=0.2)"
   ]
  },
  {
   "cell_type": "code",
   "execution_count": 29,
   "metadata": {},
   "outputs": [],
   "source": [
    "def flatten(l):\n",
    "    return [i for sublist in l for i in sublist]\n",
    "\n",
    "def vectorize_labels(labels, index2label=None):\n",
    "    \"\"\"labels: list of lists, i.e. each tweet has a list of labels\"\"\"\n",
    "    flat_labels = flatten(labels)\n",
    "    if not index2label:\n",
    "        label_set = list(set(flat_labels))\n",
    "        index2label = dict(enumerate(label_set))\n",
    "    label2index = dict((l, i) for i, l in enumerate(index2label))\n",
    "\n",
    "    y = [label2index[l] for l in flat_labels]\n",
    "    y = to_categorical(np.array(y, dtype='int32'))\n",
    "    return y, label2index, index2label"
   ]
  },
  {
   "cell_type": "code",
   "execution_count": 30,
   "metadata": {},
   "outputs": [],
   "source": [
    "window = 1\n",
    "index2label_cat = [\n",
    "    'B-corporation',\n",
    "    'B-creative-work',\n",
    "    'B-group',\n",
    "    'B-location',\n",
    "    'B-person',\n",
    "    'B-product',\n",
    "    'I-corporation',\n",
    "    'I-creative-work',\n",
    "    'I-group',\n",
    "    'I-location',\n",
    "    'I-person',\n",
    "    'I-product',\n",
    "    'O'\n",
    "]\n",
    "\n",
    "# Creating a new list for changing label to integer classes\n",
    "y_cat_train, label2index_cat, _ = vectorize_labels(labels_train, index2label_cat)"
   ]
  },
  {
   "cell_type": "code",
   "execution_count": 31,
   "metadata": {},
   "outputs": [],
   "source": [
    "# Mapping the labels to binary\n",
    "def map_to_binary(labels):\n",
    "    return [['TRUE' if label != 'O' else 'FALSE' for label in lbls] for lbls in labels]\n",
    "    \n",
    "labels_seg_train = map_to_binary(labels_train)\n",
    "\n",
    "index2label_seg = ['FALSE', 'TRUE']\n",
    "label2index_seg = { l:i for i, l in enumerate(index2label_seg) }\n",
    "\n",
    "lb = LabelBinarizer()\n",
    "y_seg_train = lb.fit_transform(flatten(labels_seg_train))"
   ]
  },
  {
   "cell_type": "markdown",
   "metadata": {},
   "source": [
    "### Feature 1: Ortho Vector"
   ]
  },
  {
   "cell_type": "code",
   "execution_count": 32,
   "metadata": {},
   "outputs": [],
   "source": [
    "def orthoencoding(ortho2index, tweets_train):\n",
    "    ortho_mapping = flatten(orthographic_mapping(tweets_train))\n",
    "    x_ortho_twitter_train = padding([0]*20, ortho2index, ortho_mapping)\n",
    "    return x_ortho_twitter_train"
   ]
  },
  {
   "cell_type": "code",
   "execution_count": 33,
   "metadata": {},
   "outputs": [],
   "source": [
    "x_ortho_twitter_train = orthoencoding(ortho2index, tweets_train)"
   ]
  },
  {
   "cell_type": "markdown",
   "metadata": {},
   "source": [
    "### Feature 2: Pos Tag"
   ]
  },
  {
   "cell_type": "code",
   "execution_count": 34,
   "metadata": {},
   "outputs": [],
   "source": [
    "def pos_fun(tweets_train):\n",
    "    temp_list = []\n",
    "    for items in tweets_train:\n",
    "        for item in items:\n",
    "            temp_list.append(item)\n",
    "    temp_df = pd.DataFrame(temp_list)\n",
    "    pos_tags = pos_tag(temp_df[0].astype(str))\n",
    "    pos = []\n",
    "    for item in pos_tags:\n",
    "        if item[0][0] == '@':\n",
    "            pos.append('@')\n",
    "        else:\n",
    "            pos.append(item[1])\n",
    "    pos_set = (set(pos))\n",
    "    pos_hash = {k: v for v, k in enumerate(list(pos_set))}\n",
    "    x_postag = [pos_hash[item] for item in pos]\n",
    "    return pos_set, pos_hash, x_postag"
   ]
  },
  {
   "cell_type": "code",
   "execution_count": 35,
   "metadata": {},
   "outputs": [],
   "source": [
    "pos_set, pos_hash, x_postag_train = pos_fun(tweets_train)\n",
    "index2postag = list(pos_set)"
   ]
  },
  {
   "cell_type": "code",
   "execution_count": null,
   "metadata": {},
   "outputs": [],
   "source": []
  },
  {
   "cell_type": "markdown",
   "metadata": {},
   "source": [
    "### Neural Network -- Character Representation"
   ]
  },
  {
   "cell_type": "code",
   "execution_count": 36,
   "metadata": {},
   "outputs": [
    {
     "name": "stdout",
     "output_type": "stream",
     "text": [
      "WARNING:tensorflow:From /Users/devashish/anaconda3/lib/python3.6/site-packages/tensorflow/python/framework/op_def_library.py:263: colocate_with (from tensorflow.python.framework.ops) is deprecated and will be removed in a future version.\n",
      "Instructions for updating:\n",
      "Colocations handled automatically by placer.\n",
      "WARNING:tensorflow:From /Users/devashish/anaconda3/lib/python3.6/site-packages/keras/backend/tensorflow_backend.py:3445: calling dropout (from tensorflow.python.ops.nn_ops) with keep_prob is deprecated and will be removed in a future version.\n",
      "Instructions for updating:\n",
      "Please use `rate` instead of `keep_prob`. Rate should be set to `rate = 1 - keep_prob`.\n"
     ]
    }
   ],
   "source": [
    "def get_input_layer(shape, name):\n",
    "    return Input(shape=shape, dtype='int32', name='{}_input'.format(name))\n",
    "    \n",
    "def rand_uniform_embedding_layer(input_layer, input_dim, output_dim, input_len, name):\n",
    "    uniform = RandomUniform(seed=seed_number, \n",
    "                            minval=-np.sqrt(3/output_dim),\n",
    "                            maxval= np.sqrt(3/output_dim))\n",
    "    embed_layer = Embedding(input_dim=input_dim, \n",
    "                            output_dim=output_dim,\n",
    "                            input_length=input_len, \n",
    "                            embeddings_initializer=uniform,\n",
    "                            trainable=False,\n",
    "                            name='{}_embed'.format(name))(input_layer)\n",
    "    embed_layer = Dropout(0.5, name='{}_embed_dropout'.format(name))(embed_layer)\n",
    "    return embed_layer\n",
    "\n",
    "ortho_dim = 30\n",
    "char_ortho_input = get_input_layer((ortho_max_length,), 'char_ortho')\n",
    "char_ortho_embed = rand_uniform_embedding_layer(char_ortho_input, \n",
    "                                                len(index2ortho), \n",
    "                                                ortho_dim, \n",
    "                                                ortho_max_length, \n",
    "                                                'char_ortho')"
   ]
  },
  {
   "cell_type": "markdown",
   "metadata": {},
   "source": [
    "### CNN Network"
   ]
  },
  {
   "cell_type": "code",
   "execution_count": 37,
   "metadata": {},
   "outputs": [
    {
     "name": "stdout",
     "output_type": "stream",
     "text": [
      "_________________________________________________________________\n",
      "Layer (type)                 Output Shape              Param #   \n",
      "=================================================================\n",
      "char_ortho_input (InputLayer (None, 20)                0         \n",
      "_________________________________________________________________\n",
      "char_ortho_embed (Embedding) (None, 20, 30)            150       \n",
      "_________________________________________________________________\n",
      "char_ortho_embed_dropout (Dr (None, 20, 30)            0         \n",
      "_________________________________________________________________\n",
      "conv1d_1 (Conv1D)            (None, 18, 64)            5824      \n",
      "_________________________________________________________________\n",
      "conv1d_2 (Conv1D)            (None, 16, 64)            12352     \n",
      "_________________________________________________________________\n",
      "global_average_pooling1d_1 ( (None, 64)                0         \n",
      "_________________________________________________________________\n",
      "char_encoded_dense (Dense)   (None, 32)                2080      \n",
      "=================================================================\n",
      "Total params: 20,406\n",
      "Trainable params: 20,256\n",
      "Non-trainable params: 150\n",
      "_________________________________________________________________\n"
     ]
    }
   ],
   "source": [
    "def get_char_cnn(embedded, name, filters=64, kernel_size=3, dense_units=32, convs=2):\n",
    "    conv_net = embedded\n",
    "    for _ in range(convs):\n",
    "        conv_net = Conv1D(filters=filters, kernel_size=kernel_size, activation='relu')(conv_net)\n",
    "    conv_net = GlobalAveragePooling1D()(conv_net)\n",
    "    conv_net = Dense(dense_units, activation='relu', name='{}_dense'.format(name))(conv_net)\n",
    "    return conv_net\n",
    "\n",
    "char_encoded = char_ortho_embed\n",
    "\n",
    "char_encoded = get_char_cnn(char_encoded, 'char_encoded')\n",
    "char_encoder = Model(inputs=[char_ortho_input], outputs=[char_encoded])\n",
    "char_encoder.summary()"
   ]
  },
  {
   "cell_type": "markdown",
   "metadata": {},
   "source": [
    "### Neural Network -- Word Representation"
   ]
  },
  {
   "cell_type": "code",
   "execution_count": 38,
   "metadata": {},
   "outputs": [],
   "source": [
    "postag_dim = 100\n",
    "postag_input = get_input_layer((window*1,), 'word_postag')\n",
    "postag_embed = rand_uniform_embedding_layer(postag_input, \n",
    "                                            len(index2postag)+1, \n",
    "                                            postag_dim,\n",
    "                                            window*1, \n",
    "                                            'word_postag')"
   ]
  },
  {
   "cell_type": "markdown",
   "metadata": {},
   "source": [
    "#### BLSTM Network"
   ]
  },
  {
   "cell_type": "code",
   "execution_count": 39,
   "metadata": {},
   "outputs": [
    {
     "name": "stdout",
     "output_type": "stream",
     "text": [
      "_________________________________________________________________\n",
      "Layer (type)                 Output Shape              Param #   \n",
      "=================================================================\n",
      "word_postag_input (InputLaye (None, 1)                 0         \n",
      "_________________________________________________________________\n",
      "word_postag_embed (Embedding (None, 1, 100)            4400      \n",
      "_________________________________________________________________\n",
      "word_postag_embed_dropout (D (None, 1, 100)            0         \n",
      "_________________________________________________________________\n",
      "word_encoded_blstm (Bidirect (None, 200)               160800    \n",
      "_________________________________________________________________\n",
      "word_encoded_blstm_dropout ( (None, 200)               0         \n",
      "=================================================================\n",
      "Total params: 165,200\n",
      "Trainable params: 160,800\n",
      "Non-trainable params: 4,400\n",
      "_________________________________________________________________\n"
     ]
    }
   ],
   "source": [
    "word_encoded = postag_embed\n",
    "word_encoded = Bidirectional(LSTM(100, \n",
    "                                  return_sequences=False, \n",
    "                                  dropout=0.2, \n",
    "                                  recurrent_dropout=0.2), \n",
    "                             name='word_encoded_blstm')(word_encoded)\n",
    "word_encoded = Dropout(0.5, name='word_encoded_blstm_dropout')(word_encoded)\n",
    "word_encoder = Model(inputs=[ \n",
    "                             postag_input, \n",
    "                             ], outputs=[word_encoded])\n",
    "word_encoder.summary()"
   ]
  },
  {
   "cell_type": "markdown",
   "metadata": {},
   "source": [
    "#### Final Concatenation"
   ]
  },
  {
   "cell_type": "code",
   "execution_count": 40,
   "metadata": {},
   "outputs": [
    {
     "name": "stdout",
     "output_type": "stream",
     "text": [
      "__________________________________________________________________________________________________\n",
      "Layer (type)                    Output Shape         Param #     Connected to                     \n",
      "==================================================================================================\n",
      "char_ortho_input (InputLayer)   (None, 20)           0                                            \n",
      "__________________________________________________________________________________________________\n",
      "char_ortho_embed (Embedding)    (None, 20, 30)       150         char_ortho_input[0][0]           \n",
      "__________________________________________________________________________________________________\n",
      "char_ortho_embed_dropout (Dropo (None, 20, 30)       0           char_ortho_embed[0][0]           \n",
      "__________________________________________________________________________________________________\n",
      "word_postag_input (InputLayer)  (None, 1)            0                                            \n",
      "__________________________________________________________________________________________________\n",
      "conv1d_1 (Conv1D)               (None, 18, 64)       5824        char_ortho_embed_dropout[0][0]   \n",
      "__________________________________________________________________________________________________\n",
      "word_postag_embed (Embedding)   (None, 1, 100)       4400        word_postag_input[0][0]          \n",
      "__________________________________________________________________________________________________\n",
      "conv1d_2 (Conv1D)               (None, 16, 64)       12352       conv1d_1[0][0]                   \n",
      "__________________________________________________________________________________________________\n",
      "word_postag_embed_dropout (Drop (None, 1, 100)       0           word_postag_embed[0][0]          \n",
      "__________________________________________________________________________________________________\n",
      "global_average_pooling1d_1 (Glo (None, 64)           0           conv1d_2[0][0]                   \n",
      "__________________________________________________________________________________________________\n",
      "word_encoded_blstm (Bidirection (None, 200)          160800      word_postag_embed_dropout[0][0]  \n",
      "__________________________________________________________________________________________________\n",
      "char_encoded_dense (Dense)      (None, 32)           2080        global_average_pooling1d_1[0][0] \n",
      "__________________________________________________________________________________________________\n",
      "word_encoded_blstm_dropout (Dro (None, 200)          0           word_encoded_blstm[0][0]         \n",
      "__________________________________________________________________________________________________\n",
      "concat_layer (Concatenate)      (None, 232)          0           char_encoded_dense[0][0]         \n",
      "                                                                 word_encoded_blstm_dropout[0][0] \n",
      "__________________________________________________________________________________________________\n",
      "common_dense_layer (Dense)      (None, 100)          23300       concat_layer[0][0]               \n",
      "__________________________________________________________________________________________________\n",
      "seg_output (Dense)              (None, 1)            101         common_dense_layer[0][0]         \n",
      "__________________________________________________________________________________________________\n",
      "cat_output (Dense)              (None, 13)           1313        common_dense_layer[0][0]         \n",
      "==================================================================================================\n",
      "Total params: 210,320\n",
      "Trainable params: 205,770\n",
      "Non-trainable params: 4,550\n",
      "__________________________________________________________________________________________________\n"
     ]
    }
   ],
   "source": [
    "network = concatenate([char_encoded, word_encoded], name='concat_layer')\n",
    "network = Dense(100, activation='relu', name='common_dense_layer') (network)\n",
    "\n",
    "seg_output = Dense(1, activation='sigmoid', name='seg_output')(network)\n",
    "cat_output = Dense(len(index2label_cat), activation='softmax', name='cat_output')(network)\n",
    "\n",
    "word_inputs = [postag_input]\n",
    "char_inputs = [char_ortho_input]\n",
    "\n",
    "model = Model(inputs= char_inputs + word_inputs, \n",
    "              outputs=[seg_output, cat_output], \n",
    "              name='ne_model')\n",
    "model.summary()"
   ]
  },
  {
   "cell_type": "code",
   "execution_count": 41,
   "metadata": {},
   "outputs": [],
   "source": [
    "def fbeta_score(y_true, y_pred, beta=1):\n",
    "    if beta < 0:\n",
    "        raise ValueError('The lowest choosable beta is zero (only precision).')\n",
    "\n",
    "    # Count positive samples.\n",
    "    c1 = K.sum(K.round(K.clip(y_true * y_pred, 0, 1)))\n",
    "    c2 = K.sum(K.round(K.clip(y_pred, 0, 1)))\n",
    "    c3 = K.sum(K.round(K.clip(y_true, 0, 1)))\n",
    "\n",
    "    # If there are no true samples, fix the F score at 0.\n",
    "    if c3 == 0:\n",
    "        return 0\n",
    "\n",
    "    # How many selected items are relevant?\n",
    "    precision = c1 / c2\n",
    "\n",
    "    # How many relevant items are selected?\n",
    "    recall = c1 / c3\n",
    "\n",
    "    # Weight precision and recall together as a single scalar.\n",
    "    beta2 = beta ** 2\n",
    "    f_score = (1 + beta2) * (precision * recall) / (beta2 * precision + recall)\n",
    "    return f_score"
   ]
  },
  {
   "cell_type": "markdown",
   "metadata": {},
   "source": [
    "### Training the model"
   ]
  },
  {
   "cell_type": "code",
   "execution_count": 42,
   "metadata": {},
   "outputs": [
    {
     "name": "stdout",
     "output_type": "stream",
     "text": [
      "WARNING:tensorflow:From /Users/devashish/anaconda3/lib/python3.6/site-packages/tensorflow/python/ops/math_ops.py:3066: to_int32 (from tensorflow.python.ops.math_ops) is deprecated and will be removed in a future version.\n",
      "Instructions for updating:\n",
      "Use tf.cast instead.\n",
      "Train on 40281 samples, validate on 10071 samples\n",
      "Epoch 1/20\n",
      "40281/40281 [==============================] - 8s 208us/step - loss: 1.1064 - seg_output_loss: 0.2938 - cat_output_loss: 0.8126 - seg_output_fbeta_score: nan - seg_output_acc: 0.9488 - cat_output_fbeta_score: nan - cat_output_acc: 0.8939 - val_loss: 0.5000 - val_seg_output_loss: 0.1842 - val_cat_output_loss: 0.3158 - val_seg_output_fbeta_score: nan - val_seg_output_acc: 0.9500 - val_cat_output_fbeta_score: 0.9493 - val_cat_output_acc: 0.9500\n",
      "Epoch 2/20\n",
      "40281/40281 [==============================] - 6s 145us/step - loss: 0.4562 - seg_output_loss: 0.1672 - cat_output_loss: 0.2890 - seg_output_fbeta_score: nan - seg_output_acc: 0.9493 - cat_output_fbeta_score: 0.9491 - cat_output_acc: 0.9493 - val_loss: 0.4325 - val_seg_output_loss: 0.1563 - val_cat_output_loss: 0.2762 - val_seg_output_fbeta_score: nan - val_seg_output_acc: 0.9499 - val_cat_output_fbeta_score: 0.9489 - val_cat_output_acc: 0.9500\n",
      "Epoch 3/20\n",
      "40281/40281 [==============================] - 6s 145us/step - loss: 0.4231 - seg_output_loss: 0.1528 - cat_output_loss: 0.2703 - seg_output_fbeta_score: nan - seg_output_acc: 0.9492 - cat_output_fbeta_score: 0.9487 - cat_output_acc: 0.9493 - val_loss: 0.4280 - val_seg_output_loss: 0.1545 - val_cat_output_loss: 0.2735 - val_seg_output_fbeta_score: nan - val_seg_output_acc: 0.9497 - val_cat_output_fbeta_score: 0.9483 - val_cat_output_acc: 0.9500\n",
      "Epoch 4/20\n",
      "40281/40281 [==============================] - 6s 144us/step - loss: 0.4198 - seg_output_loss: 0.1519 - cat_output_loss: 0.2679 - seg_output_fbeta_score: nan - seg_output_acc: 0.9490 - cat_output_fbeta_score: 0.9487 - cat_output_acc: 0.9493 - val_loss: 0.4220 - val_seg_output_loss: 0.1524 - val_cat_output_loss: 0.2696 - val_seg_output_fbeta_score: nan - val_seg_output_acc: 0.9497 - val_cat_output_fbeta_score: 0.9488 - val_cat_output_acc: 0.9500\n",
      "Epoch 5/20\n",
      "40281/40281 [==============================] - 6s 144us/step - loss: 0.4152 - seg_output_loss: 0.1499 - cat_output_loss: 0.2653 - seg_output_fbeta_score: nan - seg_output_acc: 0.9489 - cat_output_fbeta_score: 0.9488 - cat_output_acc: 0.9493 - val_loss: 0.4244 - val_seg_output_loss: 0.1533 - val_cat_output_loss: 0.2711 - val_seg_output_fbeta_score: nan - val_seg_output_acc: 0.9495 - val_cat_output_fbeta_score: 0.9483 - val_cat_output_acc: 0.9500\n",
      "Epoch 6/20\n",
      "40281/40281 [==============================] - 6s 150us/step - loss: 0.4126 - seg_output_loss: 0.1490 - cat_output_loss: 0.2635 - seg_output_fbeta_score: nan - seg_output_acc: 0.9489 - cat_output_fbeta_score: 0.9489 - cat_output_acc: 0.9493 - val_loss: 0.4170 - val_seg_output_loss: 0.1508 - val_cat_output_loss: 0.2662 - val_seg_output_fbeta_score: nan - val_seg_output_acc: 0.9497 - val_cat_output_fbeta_score: 0.9492 - val_cat_output_acc: 0.9500\n",
      "Epoch 7/20\n",
      "40281/40281 [==============================] - 6s 144us/step - loss: 0.4108 - seg_output_loss: 0.1484 - cat_output_loss: 0.2624 - seg_output_fbeta_score: nan - seg_output_acc: 0.9489 - cat_output_fbeta_score: 0.9489 - cat_output_acc: 0.9493 - val_loss: 0.4183 - val_seg_output_loss: 0.1509 - val_cat_output_loss: 0.2674 - val_seg_output_fbeta_score: nan - val_seg_output_acc: 0.9497 - val_cat_output_fbeta_score: 0.9487 - val_cat_output_acc: 0.9500\n",
      "Epoch 8/20\n",
      "40281/40281 [==============================] - 6s 142us/step - loss: 0.4091 - seg_output_loss: 0.1476 - cat_output_loss: 0.2615 - seg_output_fbeta_score: nan - seg_output_acc: 0.9491 - cat_output_fbeta_score: 0.9491 - cat_output_acc: 0.9493 - val_loss: 0.4212 - val_seg_output_loss: 0.1516 - val_cat_output_loss: 0.2696 - val_seg_output_fbeta_score: nan - val_seg_output_acc: 0.9495 - val_cat_output_fbeta_score: 0.9480 - val_cat_output_acc: 0.9500\n",
      "Epoch 9/20\n",
      "40281/40281 [==============================] - 6s 144us/step - loss: 0.4079 - seg_output_loss: 0.1473 - cat_output_loss: 0.2606 - seg_output_fbeta_score: nan - seg_output_acc: 0.9491 - cat_output_fbeta_score: 0.9491 - cat_output_acc: 0.9493 - val_loss: 0.4171 - val_seg_output_loss: 0.1506 - val_cat_output_loss: 0.2665 - val_seg_output_fbeta_score: nan - val_seg_output_acc: 0.9498 - val_cat_output_fbeta_score: 0.9488 - val_cat_output_acc: 0.9500\n",
      "Epoch 10/20\n",
      "40281/40281 [==============================] - 6s 142us/step - loss: 0.4073 - seg_output_loss: 0.1470 - cat_output_loss: 0.2604 - seg_output_fbeta_score: nan - seg_output_acc: 0.9493 - cat_output_fbeta_score: 0.9492 - cat_output_acc: 0.9493 - val_loss: 0.4241 - val_seg_output_loss: 0.1522 - val_cat_output_loss: 0.2719 - val_seg_output_fbeta_score: nan - val_seg_output_acc: 0.9495 - val_cat_output_fbeta_score: 0.9478 - val_cat_output_acc: 0.9500\n",
      "Epoch 11/20\n",
      "40281/40281 [==============================] - 6s 143us/step - loss: 0.4071 - seg_output_loss: 0.1467 - cat_output_loss: 0.2604 - seg_output_fbeta_score: nan - seg_output_acc: 0.9491 - cat_output_fbeta_score: 0.9491 - cat_output_acc: 0.9493 - val_loss: 0.4220 - val_seg_output_loss: 0.1517 - val_cat_output_loss: 0.2704 - val_seg_output_fbeta_score: nan - val_seg_output_acc: 0.9495 - val_cat_output_fbeta_score: 0.9481 - val_cat_output_acc: 0.9500\n",
      "Epoch 12/20\n",
      "40281/40281 [==============================] - 6s 150us/step - loss: 0.4043 - seg_output_loss: 0.1455 - cat_output_loss: 0.2587 - seg_output_fbeta_score: nan - seg_output_acc: 0.9492 - cat_output_fbeta_score: 0.9491 - cat_output_acc: 0.9493 - val_loss: 0.4104 - val_seg_output_loss: 0.1485 - val_cat_output_loss: 0.2620 - val_seg_output_fbeta_score: nan - val_seg_output_acc: 0.9499 - val_cat_output_fbeta_score: 0.9495 - val_cat_output_acc: 0.9500\n",
      "Epoch 13/20\n",
      "40281/40281 [==============================] - 6s 143us/step - loss: 0.4043 - seg_output_loss: 0.1455 - cat_output_loss: 0.2588 - seg_output_fbeta_score: nan - seg_output_acc: 0.9491 - cat_output_fbeta_score: 0.9492 - cat_output_acc: 0.9493 - val_loss: 0.4133 - val_seg_output_loss: 0.1489 - val_cat_output_loss: 0.2644 - val_seg_output_fbeta_score: nan - val_seg_output_acc: 0.9498 - val_cat_output_fbeta_score: 0.9488 - val_cat_output_acc: 0.9500\n",
      "Epoch 14/20\n",
      "40281/40281 [==============================] - 6s 147us/step - loss: 0.4029 - seg_output_loss: 0.1447 - cat_output_loss: 0.2581 - seg_output_fbeta_score: nan - seg_output_acc: 0.9492 - cat_output_fbeta_score: 0.9492 - cat_output_acc: 0.9493 - val_loss: 0.4140 - val_seg_output_loss: 0.1493 - val_cat_output_loss: 0.2647 - val_seg_output_fbeta_score: nan - val_seg_output_acc: 0.9495 - val_cat_output_fbeta_score: 0.9488 - val_cat_output_acc: 0.9500\n",
      "Epoch 15/20\n",
      "40281/40281 [==============================] - 6s 144us/step - loss: 0.4032 - seg_output_loss: 0.1451 - cat_output_loss: 0.2581 - seg_output_fbeta_score: nan - seg_output_acc: 0.9491 - cat_output_fbeta_score: 0.9490 - cat_output_acc: 0.9493 - val_loss: 0.4154 - val_seg_output_loss: 0.1492 - val_cat_output_loss: 0.2662 - val_seg_output_fbeta_score: nan - val_seg_output_acc: 0.9495 - val_cat_output_fbeta_score: 0.9481 - val_cat_output_acc: 0.9500\n",
      "Epoch 16/20\n",
      "40281/40281 [==============================] - 6s 144us/step - loss: 0.4021 - seg_output_loss: 0.1445 - cat_output_loss: 0.2576 - seg_output_fbeta_score: nan - seg_output_acc: 0.9491 - cat_output_fbeta_score: 0.9491 - cat_output_acc: 0.9493 - val_loss: 0.4133 - val_seg_output_loss: 0.1486 - val_cat_output_loss: 0.2647 - val_seg_output_fbeta_score: nan - val_seg_output_acc: 0.9495 - val_cat_output_fbeta_score: 0.9481 - val_cat_output_acc: 0.9500\n",
      "Epoch 17/20\n",
      "40281/40281 [==============================] - 6s 143us/step - loss: 0.4005 - seg_output_loss: 0.1437 - cat_output_loss: 0.2568 - seg_output_fbeta_score: nan - seg_output_acc: 0.9493 - cat_output_fbeta_score: 0.9492 - cat_output_acc: 0.9493 - val_loss: 0.4099 - val_seg_output_loss: 0.1473 - val_cat_output_loss: 0.2626 - val_seg_output_fbeta_score: nan - val_seg_output_acc: 0.9495 - val_cat_output_fbeta_score: 0.9481 - val_cat_output_acc: 0.9500\n",
      "Epoch 18/20\n"
     ]
    },
    {
     "name": "stdout",
     "output_type": "stream",
     "text": [
      "40281/40281 [==============================] - 6s 147us/step - loss: 0.3989 - seg_output_loss: 0.1429 - cat_output_loss: 0.2560 - seg_output_fbeta_score: nan - seg_output_acc: 0.9491 - cat_output_fbeta_score: 0.9491 - cat_output_acc: 0.9493 - val_loss: 0.4141 - val_seg_output_loss: 0.1485 - val_cat_output_loss: 0.2656 - val_seg_output_fbeta_score: nan - val_seg_output_acc: 0.9496 - val_cat_output_fbeta_score: 0.9482 - val_cat_output_acc: 0.9500\n",
      "Epoch 19/20\n",
      "40281/40281 [==============================] - 6s 143us/step - loss: 0.4005 - seg_output_loss: 0.1438 - cat_output_loss: 0.2567 - seg_output_fbeta_score: nan - seg_output_acc: 0.9493 - cat_output_fbeta_score: 0.9492 - cat_output_acc: 0.9493 - val_loss: 0.4075 - val_seg_output_loss: 0.1465 - val_cat_output_loss: 0.2610 - val_seg_output_fbeta_score: nan - val_seg_output_acc: 0.9499 - val_cat_output_fbeta_score: 0.9488 - val_cat_output_acc: 0.9500\n",
      "Epoch 20/20\n",
      "40281/40281 [==============================] - 6s 155us/step - loss: 0.3977 - seg_output_loss: 0.1422 - cat_output_loss: 0.2554 - seg_output_fbeta_score: nan - seg_output_acc: 0.9491 - cat_output_fbeta_score: 0.9489 - cat_output_acc: 0.9493 - val_loss: 0.4090 - val_seg_output_loss: 0.1465 - val_cat_output_loss: 0.2625 - val_seg_output_fbeta_score: nan - val_seg_output_acc: 0.9499 - val_cat_output_fbeta_score: 0.9480 - val_cat_output_acc: 0.9500\n"
     ]
    }
   ],
   "source": [
    "adamax = Adamax(lr=0.001, beta_1=0.9, beta_2=0.999, epsilon=1e-08)\n",
    "model.compile(optimizer=adamax,\n",
    "              loss={'seg_output': 'binary_crossentropy', \n",
    "                    'cat_output': 'categorical_crossentropy'},\n",
    "              loss_weights={'seg_output': 1., \n",
    "                            'cat_output': 1.},\n",
    "              metrics={'seg_output': [fbeta_score, 'accuracy'],\n",
    "                       'cat_output': [fbeta_score, 'accuracy']})\n",
    "\n",
    "early_stopping = EarlyStopping(patience=20, verbose=1)\n",
    "# checkpointer = ModelCheckpoint(filepath='{}weights/{}.hdf5'.format(WEIGHTS_DIR, experiment),\n",
    "#                                save_best_only=True, verbose=1)\n",
    "\n",
    "train_word_values = [x_postag_train]\n",
    "train_char_values = [x_ortho_twitter_train]\n",
    "\n",
    "hist = model.fit(train_char_values + train_word_values, \n",
    "                 {'seg_output': y_seg_train, 'cat_output': y_cat_train}, \n",
    "                 batch_size=500, \n",
    "                 epochs=20, \n",
    "                 verbose=1, \n",
    "                 shuffle=True,\n",
    "                 validation_split=0.2,\n",
    "                 callbacks=[early_stopping])  # , checkpointer])"
   ]
  },
  {
   "cell_type": "code",
   "execution_count": 43,
   "metadata": {},
   "outputs": [
    {
     "data": {
      "image/png": "[encoded data removed]",
      "text/plain": [
       "<Figure size 432x288 with 1 Axes>"
      ]
     },
     "metadata": {},
     "output_type": "display_data"
    }
   ],
   "source": [
    "train_loss = hist.history[\"loss\"]\n",
    "val_loss = hist.history[\"val_loss\"]\n",
    "plt.plot(range(len(train_loss)), train_loss, color=\"red\", label=\"Train Loss\")\n",
    "plt.plot(range(len(train_loss)), val_loss, color=\"blue\", label=\"Validation Loss\")\n",
    "plt.xlabel(\"epochs\")\n",
    "plt.ylabel(\"loss\")\n",
    "plt.legend(loc=\"best\")\n",
    "plt.show()"
   ]
  },
  {
   "cell_type": "code",
   "execution_count": 44,
   "metadata": {},
   "outputs": [],
   "source": [
    "cat_model = Model(inputs= char_inputs + word_inputs, \n",
    "                  outputs=[cat_output], \n",
    "                  name='cat_model')"
   ]
  },
  {
   "cell_type": "markdown",
   "metadata": {},
   "source": [
    "### Testing the model"
   ]
  },
  {
   "cell_type": "code",
   "execution_count": 45,
   "metadata": {},
   "outputs": [],
   "source": [
    "pos_set, pos_hash, x_postag_test = pos_fun(tweets_test)\n",
    "x_ortho_twitter_test = orthoencoding(ortho2index, tweets_test)"
   ]
  },
  {
   "cell_type": "code",
   "execution_count": 46,
   "metadata": {},
   "outputs": [],
   "source": [
    "def decode_predictions(predictions, idx2label):\n",
    "    return [idx2label[pred] for pred in predictions]"
   ]
  },
  {
   "cell_type": "code",
   "execution_count": 47,
   "metadata": {},
   "outputs": [
    {
     "name": "stdout",
     "output_type": "stream",
     "text": [
      "12378/12378 [==============================] - 1s 92us/step\n"
     ]
    }
   ],
   "source": [
    "# Predicting test data\n",
    "test_word_values = [x_postag_test]\n",
    "test_char_values = [x_ortho_twitter_test]\n",
    "\n",
    "prediction_probs = cat_model.predict(  \n",
    "                                     test_char_values + \n",
    "                                     test_word_values, batch_size=500, verbose=1)\n",
    "# Decoding predictions\n",
    "decoded_predictions = decode_predictions([np.argmax(p) for p in prediction_probs], index2label_cat)"
   ]
  },
  {
   "cell_type": "code",
   "execution_count": 48,
   "metadata": {},
   "outputs": [
    {
     "name": "stdout",
     "output_type": "stream",
     "text": [
      "Classification Report\n",
      "\n",
      "                 precision    recall  f1-score   support\n",
      "\n",
      "  B-corporation       0.00      0.00      0.00        40\n",
      "B-creative-work       0.00      0.00      0.00        22\n",
      "        B-group       0.00      0.00      0.00        45\n",
      "     B-location       0.00      0.00      0.00       110\n",
      "       B-person       0.00      0.00      0.00       134\n",
      "      B-product       0.00      0.00      0.00        33\n",
      "  I-corporation       0.00      0.00      0.00         9\n",
      "I-creative-work       0.00      0.00      0.00        27\n",
      "        I-group       0.00      0.00      0.00        30\n",
      "     I-location       0.00      0.00      0.00        46\n",
      "       I-person       0.00      0.00      0.00        68\n",
      "      I-product       0.00      0.00      0.00        51\n",
      "              O       0.95      1.00      0.97     11763\n",
      "\n",
      "       accuracy                           0.95     12378\n",
      "      macro avg       0.07      0.08      0.07     12378\n",
      "   weighted avg       0.90      0.95      0.93     12378\n",
      "\n",
      "\n",
      "\n",
      "Confusion Matrix\n",
      "\n"
     ]
    },
    {
     "name": "stderr",
     "output_type": "stream",
     "text": [
      "/Users/devashish/anaconda3/lib/python3.6/site-packages/sklearn/metrics/classification.py:1437: UndefinedMetricWarning: Precision and F-score are ill-defined and being set to 0.0 in labels with no predicted samples.\n",
      "  'precision', 'predicted', average, warn_for)\n",
      "/Users/devashish/anaconda3/lib/python3.6/site-packages/sklearn/metrics/classification.py:1437: UndefinedMetricWarning: Precision and F-score are ill-defined and being set to 0.0 in labels with no predicted samples.\n",
      "  'precision', 'predicted', average, warn_for)\n",
      "/Users/devashish/anaconda3/lib/python3.6/site-packages/sklearn/metrics/classification.py:1437: UndefinedMetricWarning: Precision and F-score are ill-defined and being set to 0.0 in labels with no predicted samples.\n",
      "  'precision', 'predicted', average, warn_for)\n"
     ]
    },
    {
     "data": {
      "text/plain": [
       "<matplotlib.axes._subplots.AxesSubplot at 0x1a30e1d2b0>"
      ]
     },
     "execution_count": 48,
     "metadata": {},
     "output_type": "execute_result"
    },
    {
     "data": {
      "image/png": "[encoded data removed]",
      "text/plain": [
       "<Figure size 1152x1152 with 2 Axes>"
      ]
     },
     "metadata": {},
     "output_type": "display_data"
    }
   ],
   "source": [
    "print(\"Classification Report\\n\")\n",
    "print(classification_report(flatten(labels_test), decoded_predictions))\n",
    "print()\n",
    "print()\n",
    "print(\"Confusion Matrix\\n\")\n",
    "cm = confusion_matrix(flatten(labels_test), decoded_predictions)\n",
    "plt.figure(figsize = (16,16))\n",
    "sn.heatmap(cm, annot=True,  fmt='g')"
   ]
  },
  {
   "cell_type": "markdown",
   "metadata": {},
   "source": [
    "## CRF-Suite Predictions"
   ]
  },
  {
   "cell_type": "code",
   "execution_count": 49,
   "metadata": {},
   "outputs": [],
   "source": [
    "nn_model = Model(inputs=model.input, outputs=model.get_layer('common_dense_layer').output)\n",
    "\n",
    "def get_xseq(model, matrix):\n",
    "    xseq = [{'feat{}'.format(i):float(w) for i,w in enumerate(list(features))} \n",
    "            for features \n",
    "            in model.predict(matrix)]\n",
    "    return ItemSequence(xseq)\n",
    "\n",
    "xseq_train = get_xseq(nn_model,  train_char_values + train_word_values)\n",
    "yseq_train = flatten(labels_train)\n",
    "\n",
    "trainer = crf.Trainer(verbose=False)\n",
    "trainer.append(xseq_train, yseq_train)\n",
    "trainer.set_params({\n",
    "    'c1': 1.0,                           # L1 penalty\n",
    "    'c2': 1e-3,                          # L2 penalty\n",
    "    'max_iterations': 20,               # stop earlier\n",
    "    'feature.possible_transitions': True # possible transitions, but not observed\n",
    "})\n",
    "trainer.train('{}.pycrfsuite'.format(experiment))\n",
    "trainer.logparser.last_iteration\n",
    "\n",
    "tagger = crf.Tagger()\n",
    "tagger.open('{}.pycrfsuite'.format(experiment))\n",
    "\n",
    "# Predicting test data\n",
    "decoded_predictions = tagger.tag(get_xseq(nn_model, \n",
    "                                          test_char_values + \n",
    "                                          test_word_values))"
   ]
  },
  {
   "cell_type": "code",
   "execution_count": 55,
   "metadata": {},
   "outputs": [
    {
     "name": "stdout",
     "output_type": "stream",
     "text": [
      "Top likely transitions:\n",
      "B-person -> I-person 3.936851\n",
      "B-location -> I-location 2.291192\n",
      "I-product -> I-product 1.705511\n",
      "O      -> O       1.632621\n",
      "B-creative-work -> I-creative-work 1.417550\n",
      "I-creative-work -> I-creative-work 1.386468\n",
      "B-group -> I-group 1.333125\n",
      "B-product -> I-product 1.057185\n",
      "I-location -> I-location 0.951327\n",
      "I-group -> I-group 0.726022\n",
      "O      -> B-person 0.531396\n",
      "B-corporation -> I-corporation 0.516798\n",
      "O      -> B-location 0.494253\n",
      "O      -> B-group 0.371175\n",
      "O      -> B-corporation 0.290107\n",
      "\n",
      "Top unlikely transitions:\n",
      "B-location -> B-person -0.140064\n",
      "B-person -> B-location -0.142025\n",
      "B-group -> O       -0.152444\n",
      "B-person -> B-person -0.153057\n",
      "I-group -> O       -0.157578\n",
      "I-creative-work -> O       -0.238135\n",
      "I-product -> O       -0.587993\n",
      "B-product -> O       -0.602447\n",
      "B-creative-work -> O       -1.781312\n",
      "O      -> I-corporation -2.033485\n",
      "O      -> I-group -2.725038\n",
      "O      -> I-product -3.081457\n",
      "O      -> I-creative-work -3.115185\n",
      "O      -> I-location -3.260909\n",
      "O      -> I-person -3.946296\n"
     ]
    }
   ],
   "source": [
    "info = tagger.info()\n",
    "\n",
    "def print_transitions(trans_features):\n",
    "    for (label_from, label_to), weight in trans_features:\n",
    "        print(\"%-6s -> %-7s %0.6f\" % (label_from, label_to, weight))\n",
    "\n",
    "print(\"Top likely transitions:\")\n",
    "print_transitions(Counter(info.transitions).most_common(15))\n",
    "\n",
    "print(\"\\nTop unlikely transitions:\")\n",
    "print_transitions(Counter(info.transitions).most_common()[-15:])"
   ]
  },
  {
   "cell_type": "code",
   "execution_count": 50,
   "metadata": {
    "scrolled": true
   },
   "outputs": [
    {
     "name": "stdout",
     "output_type": "stream",
     "text": [
      "Classification Report\n",
      "\n",
      "                 precision    recall  f1-score   support\n",
      "\n",
      "  B-corporation       0.00      0.00      0.00        40\n",
      "B-creative-work       0.00      0.00      0.00        22\n",
      "        B-group       0.00      0.00      0.00        45\n",
      "     B-location       0.00      0.00      0.00       110\n",
      "       B-person       0.00      0.00      0.00       134\n",
      "      B-product       0.00      0.00      0.00        33\n",
      "  I-corporation       0.00      0.00      0.00         9\n",
      "I-creative-work       0.00      0.00      0.00        27\n",
      "        I-group       0.00      0.00      0.00        30\n",
      "     I-location       0.00      0.00      0.00        46\n",
      "       I-person       0.00      0.00      0.00        68\n",
      "      I-product       0.00      0.00      0.00        51\n",
      "              O       0.95      1.00      0.97     11763\n",
      "\n",
      "       accuracy                           0.95     12378\n",
      "      macro avg       0.07      0.08      0.07     12378\n",
      "   weighted avg       0.90      0.95      0.93     12378\n",
      "\n",
      "\n",
      "\n",
      "Confusion Matrix\n",
      "\n"
     ]
    },
    {
     "name": "stderr",
     "output_type": "stream",
     "text": [
      "/Users/devashish/anaconda3/lib/python3.6/site-packages/sklearn/metrics/classification.py:1437: UndefinedMetricWarning: Precision and F-score are ill-defined and being set to 0.0 in labels with no predicted samples.\n",
      "  'precision', 'predicted', average, warn_for)\n",
      "/Users/devashish/anaconda3/lib/python3.6/site-packages/sklearn/metrics/classification.py:1437: UndefinedMetricWarning: Precision and F-score are ill-defined and being set to 0.0 in labels with no predicted samples.\n",
      "  'precision', 'predicted', average, warn_for)\n",
      "/Users/devashish/anaconda3/lib/python3.6/site-packages/sklearn/metrics/classification.py:1437: UndefinedMetricWarning: Precision and F-score are ill-defined and being set to 0.0 in labels with no predicted samples.\n",
      "  'precision', 'predicted', average, warn_for)\n"
     ]
    },
    {
     "data": {
      "text/plain": [
       "<matplotlib.axes._subplots.AxesSubplot at 0x1a303b31d0>"
      ]
     },
     "execution_count": 50,
     "metadata": {},
     "output_type": "execute_result"
    },
    {
     "data": {
      "image/png": "[encoded data removed]",
      "text/plain": [
       "<Figure size 1152x1152 with 2 Axes>"
      ]
     },
     "metadata": {},
     "output_type": "display_data"
    }
   ],
   "source": [
    "print(\"Classification Report\\n\")\n",
    "print(classification_report(flatten(labels_test), decoded_predictions))\n",
    "print()\n",
    "print()\n",
    "print(\"Confusion Matrix\\n\")\n",
    "cm = confusion_matrix(flatten(labels_test), decoded_predictions)\n",
    "plt.figure(figsize = (16,16))\n",
    "sn.heatmap(cm, annot=True,  fmt='g')"
   ]
  },
  {
   "cell_type": "code",
   "execution_count": null,
   "metadata": {},
   "outputs": [],
   "source": []
  },
  {
   "cell_type": "code",
   "execution_count": null,
   "metadata": {},
   "outputs": [],
   "source": []
  },
  {
   "cell_type": "code",
   "execution_count": null,
   "metadata": {},
   "outputs": [],
   "source": []
  },
  {
   "cell_type": "markdown",
   "metadata": {},
   "source": [
    "## Training the final model"
   ]
  },
  {
   "cell_type": "code",
   "execution_count": 51,
   "metadata": {},
   "outputs": [
    {
     "name": "stdout",
     "output_type": "stream",
     "text": [
      "_________________________________________________________________\n",
      "Layer (type)                 Output Shape              Param #   \n",
      "=================================================================\n",
      "char_ortho_input (InputLayer (None, 20)                0         \n",
      "_________________________________________________________________\n",
      "char_ortho_embed (Embedding) (None, 20, 30)            150       \n",
      "_________________________________________________________________\n",
      "char_ortho_embed_dropout (Dr (None, 20, 30)            0         \n",
      "_________________________________________________________________\n",
      "conv1d_3 (Conv1D)            (None, 18, 64)            5824      \n",
      "_________________________________________________________________\n",
      "conv1d_4 (Conv1D)            (None, 16, 64)            12352     \n",
      "_________________________________________________________________\n",
      "global_average_pooling1d_2 ( (None, 64)                0         \n",
      "_________________________________________________________________\n",
      "char_encoded_dense (Dense)   (None, 32)                2080      \n",
      "=================================================================\n",
      "Total params: 20,406\n",
      "Trainable params: 20,256\n",
      "Non-trainable params: 150\n",
      "_________________________________________________________________\n",
      "_________________________________________________________________\n",
      "Layer (type)                 Output Shape              Param #   \n",
      "=================================================================\n",
      "word_postag_input (InputLaye (None, 1)                 0         \n",
      "_________________________________________________________________\n",
      "word_postag_embed (Embedding (None, 1, 100)            4400      \n",
      "_________________________________________________________________\n",
      "word_postag_embed_dropout (D (None, 1, 100)            0         \n",
      "_________________________________________________________________\n",
      "word_encoded_blstm (Bidirect (None, 200)               160800    \n",
      "_________________________________________________________________\n",
      "word_encoded_blstm_dropout ( (None, 200)               0         \n",
      "=================================================================\n",
      "Total params: 165,200\n",
      "Trainable params: 160,800\n",
      "Non-trainable params: 4,400\n",
      "_________________________________________________________________\n",
      "__________________________________________________________________________________________________\n",
      "Layer (type)                    Output Shape         Param #     Connected to                     \n",
      "==================================================================================================\n",
      "char_ortho_input (InputLayer)   (None, 20)           0                                            \n",
      "__________________________________________________________________________________________________\n",
      "char_ortho_embed (Embedding)    (None, 20, 30)       150         char_ortho_input[0][0]           \n",
      "__________________________________________________________________________________________________\n",
      "char_ortho_embed_dropout (Dropo (None, 20, 30)       0           char_ortho_embed[0][0]           \n",
      "__________________________________________________________________________________________________\n",
      "word_postag_input (InputLayer)  (None, 1)            0                                            \n",
      "__________________________________________________________________________________________________\n",
      "conv1d_3 (Conv1D)               (None, 18, 64)       5824        char_ortho_embed_dropout[0][0]   \n",
      "__________________________________________________________________________________________________\n",
      "word_postag_embed (Embedding)   (None, 1, 100)       4400        word_postag_input[0][0]          \n",
      "__________________________________________________________________________________________________\n",
      "conv1d_4 (Conv1D)               (None, 16, 64)       12352       conv1d_3[0][0]                   \n",
      "__________________________________________________________________________________________________\n",
      "word_postag_embed_dropout (Drop (None, 1, 100)       0           word_postag_embed[0][0]          \n",
      "__________________________________________________________________________________________________\n",
      "global_average_pooling1d_2 (Glo (None, 64)           0           conv1d_4[0][0]                   \n",
      "__________________________________________________________________________________________________\n",
      "word_encoded_blstm (Bidirection (None, 200)          160800      word_postag_embed_dropout[0][0]  \n",
      "__________________________________________________________________________________________________\n",
      "char_encoded_dense (Dense)      (None, 32)           2080        global_average_pooling1d_2[0][0] \n",
      "__________________________________________________________________________________________________\n",
      "word_encoded_blstm_dropout (Dro (None, 200)          0           word_encoded_blstm[0][0]         \n",
      "__________________________________________________________________________________________________\n",
      "concat_layer (Concatenate)      (None, 232)          0           char_encoded_dense[0][0]         \n",
      "                                                                 word_encoded_blstm_dropout[0][0] \n",
      "__________________________________________________________________________________________________\n",
      "common_dense_layer (Dense)      (None, 100)          23300       concat_layer[0][0]               \n",
      "__________________________________________________________________________________________________\n",
      "seg_output (Dense)              (None, 1)            101         common_dense_layer[0][0]         \n",
      "__________________________________________________________________________________________________\n",
      "cat_output (Dense)              (None, 13)           1313        common_dense_layer[0][0]         \n",
      "==================================================================================================\n",
      "Total params: 210,320\n",
      "Trainable params: 205,770\n",
      "Non-trainable params: 4,550\n",
      "__________________________________________________________________________________________________\n",
      "Train on 50184 samples, validate on 12546 samples\n",
      "Epoch 1/20\n",
      "50184/50184 [==============================] - 10s 202us/step - loss: 0.9389 - seg_output_loss: 0.2467 - cat_output_loss: 0.6922 - seg_output_fbeta_score: nan - seg_output_acc: 0.9516 - cat_output_fbeta_score: nan - cat_output_acc: 0.9212 - val_loss: 0.5451 - val_seg_output_loss: 0.1963 - val_cat_output_loss: 0.3488 - val_seg_output_fbeta_score: nan - val_seg_output_acc: 0.9404 - val_cat_output_fbeta_score: 0.9388 - val_cat_output_acc: 0.9404\n",
      "Epoch 2/20\n",
      "50184/50184 [==============================] - 7s 138us/step - loss: 0.4148 - seg_output_loss: 0.1505 - cat_output_loss: 0.2643 - seg_output_fbeta_score: nan - seg_output_acc: 0.9518 - cat_output_fbeta_score: 0.9515 - cat_output_acc: 0.9519 - val_loss: 0.4967 - val_seg_output_loss: 0.1764 - val_cat_output_loss: 0.3203 - val_seg_output_fbeta_score: nan - val_seg_output_acc: 0.9398 - val_cat_output_fbeta_score: 0.9384 - val_cat_output_acc: 0.9404\n",
      "Epoch 3/20\n",
      "50184/50184 [==============================] - 8s 155us/step - loss: 0.4023 - seg_output_loss: 0.1456 - cat_output_loss: 0.2567 - seg_output_fbeta_score: nan - seg_output_acc: 0.9517 - cat_output_fbeta_score: 0.9513 - cat_output_acc: 0.9519 - val_loss: 0.4857 - val_seg_output_loss: 0.1735 - val_cat_output_loss: 0.3121 - val_seg_output_fbeta_score: nan - val_seg_output_acc: 0.9401 - val_cat_output_fbeta_score: 0.9395 - val_cat_output_acc: 0.9404\n",
      "Epoch 4/20\n",
      "50184/50184 [==============================] - 8s 163us/step - loss: 0.3953 - seg_output_loss: 0.1431 - cat_output_loss: 0.2522 - seg_output_fbeta_score: nan - seg_output_acc: 0.9518 - cat_output_fbeta_score: 0.9516 - cat_output_acc: 0.9519 - val_loss: 0.4850 - val_seg_output_loss: 0.1733 - val_cat_output_loss: 0.3117 - val_seg_output_fbeta_score: nan - val_seg_output_acc: 0.9404 - val_cat_output_fbeta_score: 0.9393 - val_cat_output_acc: 0.9404\n",
      "Epoch 5/20\n",
      "50184/50184 [==============================] - 7s 139us/step - loss: 0.3911 - seg_output_loss: 0.1411 - cat_output_loss: 0.2500 - seg_output_fbeta_score: nan - seg_output_acc: 0.9517 - cat_output_fbeta_score: 0.9516 - cat_output_acc: 0.9519 - val_loss: 0.4817 - val_seg_output_loss: 0.1719 - val_cat_output_loss: 0.3098 - val_seg_output_fbeta_score: nan - val_seg_output_acc: 0.9404 - val_cat_output_fbeta_score: 0.9396 - val_cat_output_acc: 0.9404\n"
     ]
    },
    {
     "name": "stdout",
     "output_type": "stream",
     "text": [
      "Epoch 6/20\n",
      "50184/50184 [==============================] - 7s 135us/step - loss: 0.3886 - seg_output_loss: 0.1401 - cat_output_loss: 0.2485 - seg_output_fbeta_score: nan - seg_output_acc: 0.9520 - cat_output_fbeta_score: 0.9517 - cat_output_acc: 0.9519 - val_loss: 0.4827 - val_seg_output_loss: 0.1717 - val_cat_output_loss: 0.3110 - val_seg_output_fbeta_score: nan - val_seg_output_acc: 0.9404 - val_cat_output_fbeta_score: 0.9340 - val_cat_output_acc: 0.9404\n",
      "Epoch 7/20\n",
      "50184/50184 [==============================] - 8s 164us/step - loss: 0.3885 - seg_output_loss: 0.1400 - cat_output_loss: 0.2485 - seg_output_fbeta_score: nan - seg_output_acc: 0.9521 - cat_output_fbeta_score: 0.9517 - cat_output_acc: 0.9519 - val_loss: 0.4846 - val_seg_output_loss: 0.1724 - val_cat_output_loss: 0.3123 - val_seg_output_fbeta_score: nan - val_seg_output_acc: 0.9404 - val_cat_output_fbeta_score: 0.9340 - val_cat_output_acc: 0.9404\n",
      "Epoch 8/20\n",
      "50184/50184 [==============================] - 8s 164us/step - loss: 0.3880 - seg_output_loss: 0.1399 - cat_output_loss: 0.2481 - seg_output_fbeta_score: nan - seg_output_acc: 0.9517 - cat_output_fbeta_score: 0.9515 - cat_output_acc: 0.9519 - val_loss: 0.4766 - val_seg_output_loss: 0.1695 - val_cat_output_loss: 0.3071 - val_seg_output_fbeta_score: nan - val_seg_output_acc: 0.9404 - val_cat_output_fbeta_score: 0.9391 - val_cat_output_acc: 0.9404\n",
      "Epoch 9/20\n",
      "50184/50184 [==============================] - 10s 197us/step - loss: 0.3861 - seg_output_loss: 0.1392 - cat_output_loss: 0.2469 - seg_output_fbeta_score: nan - seg_output_acc: 0.9519 - cat_output_fbeta_score: 0.9517 - cat_output_acc: 0.9519 - val_loss: 0.4761 - val_seg_output_loss: 0.1694 - val_cat_output_loss: 0.3067 - val_seg_output_fbeta_score: nan - val_seg_output_acc: 0.9404 - val_cat_output_fbeta_score: 0.9391 - val_cat_output_acc: 0.9404\n",
      "Epoch 10/20\n",
      "50184/50184 [==============================] - 10s 194us/step - loss: 0.3830 - seg_output_loss: 0.1376 - cat_output_loss: 0.2455 - seg_output_fbeta_score: nan - seg_output_acc: 0.9519 - cat_output_fbeta_score: 0.9515 - cat_output_acc: 0.9519 - val_loss: 0.4836 - val_seg_output_loss: 0.1714 - val_cat_output_loss: 0.3123 - val_seg_output_fbeta_score: nan - val_seg_output_acc: 0.9404 - val_cat_output_fbeta_score: 0.9305 - val_cat_output_acc: 0.9404\n",
      "Epoch 11/20\n",
      "50184/50184 [==============================] - 8s 169us/step - loss: 0.3840 - seg_output_loss: 0.1379 - cat_output_loss: 0.2461 - seg_output_fbeta_score: nan - seg_output_acc: 0.9518 - cat_output_fbeta_score: 0.9515 - cat_output_acc: 0.9519 - val_loss: 0.4835 - val_seg_output_loss: 0.1718 - val_cat_output_loss: 0.3118 - val_seg_output_fbeta_score: nan - val_seg_output_acc: 0.9404 - val_cat_output_fbeta_score: 0.9308 - val_cat_output_acc: 0.9404\n",
      "Epoch 12/20\n",
      "50184/50184 [==============================] - 10s 192us/step - loss: 0.3823 - seg_output_loss: 0.1372 - cat_output_loss: 0.2451 - seg_output_fbeta_score: nan - seg_output_acc: 0.9517 - cat_output_fbeta_score: 0.9516 - cat_output_acc: 0.9519 - val_loss: 0.4801 - val_seg_output_loss: 0.1708 - val_cat_output_loss: 0.3093 - val_seg_output_fbeta_score: nan - val_seg_output_acc: 0.9404 - val_cat_output_fbeta_score: 0.9308 - val_cat_output_acc: 0.9404\n",
      "Epoch 13/20\n",
      "50184/50184 [==============================] - 8s 169us/step - loss: 0.3809 - seg_output_loss: 0.1364 - cat_output_loss: 0.2445 - seg_output_fbeta_score: nan - seg_output_acc: 0.9518 - cat_output_fbeta_score: 0.9516 - cat_output_acc: 0.9519 - val_loss: 0.4762 - val_seg_output_loss: 0.1696 - val_cat_output_loss: 0.3066 - val_seg_output_fbeta_score: nan - val_seg_output_acc: 0.9404 - val_cat_output_fbeta_score: 0.9313 - val_cat_output_acc: 0.9404\n",
      "Epoch 14/20\n",
      "50184/50184 [==============================] - 8s 162us/step - loss: 0.3799 - seg_output_loss: 0.1360 - cat_output_loss: 0.2439 - seg_output_fbeta_score: nan - seg_output_acc: 0.9516 - cat_output_fbeta_score: 0.9517 - cat_output_acc: 0.9519 - val_loss: 0.4780 - val_seg_output_loss: 0.1693 - val_cat_output_loss: 0.3087 - val_seg_output_fbeta_score: nan - val_seg_output_acc: 0.9404 - val_cat_output_fbeta_score: 0.9287 - val_cat_output_acc: 0.9404\n",
      "Epoch 15/20\n",
      "50184/50184 [==============================] - 9s 170us/step - loss: 0.3790 - seg_output_loss: 0.1358 - cat_output_loss: 0.2433 - seg_output_fbeta_score: nan - seg_output_acc: 0.9515 - cat_output_fbeta_score: 0.9514 - cat_output_acc: 0.9519 - val_loss: 0.4862 - val_seg_output_loss: 0.1727 - val_cat_output_loss: 0.3135 - val_seg_output_fbeta_score: nan - val_seg_output_acc: 0.9404 - val_cat_output_fbeta_score: 0.9269 - val_cat_output_acc: 0.9404\n",
      "Epoch 16/20\n",
      "50184/50184 [==============================] - 10s 196us/step - loss: 0.3785 - seg_output_loss: 0.1355 - cat_output_loss: 0.2430 - seg_output_fbeta_score: nan - seg_output_acc: 0.9520 - cat_output_fbeta_score: 0.9516 - cat_output_acc: 0.9519 - val_loss: 0.4769 - val_seg_output_loss: 0.1694 - val_cat_output_loss: 0.3075 - val_seg_output_fbeta_score: nan - val_seg_output_acc: 0.9404 - val_cat_output_fbeta_score: 0.9285 - val_cat_output_acc: 0.9404\n",
      "Epoch 17/20\n",
      "50184/50184 [==============================] - 10s 196us/step - loss: 0.3775 - seg_output_loss: 0.1348 - cat_output_loss: 0.2426 - seg_output_fbeta_score: nan - seg_output_acc: 0.9519 - cat_output_fbeta_score: 0.9514 - cat_output_acc: 0.9519 - val_loss: 0.4733 - val_seg_output_loss: 0.1677 - val_cat_output_loss: 0.3056 - val_seg_output_fbeta_score: nan - val_seg_output_acc: 0.9404 - val_cat_output_fbeta_score: 0.9286 - val_cat_output_acc: 0.9404\n",
      "Epoch 18/20\n",
      "50184/50184 [==============================] - 10s 192us/step - loss: 0.3764 - seg_output_loss: 0.1342 - cat_output_loss: 0.2421 - seg_output_fbeta_score: nan - seg_output_acc: 0.9516 - cat_output_fbeta_score: 0.9513 - cat_output_acc: 0.9519 - val_loss: 0.4774 - val_seg_output_loss: 0.1688 - val_cat_output_loss: 0.3086 - val_seg_output_fbeta_score: nan - val_seg_output_acc: 0.9405 - val_cat_output_fbeta_score: 0.9270 - val_cat_output_acc: 0.9404\n",
      "Epoch 19/20\n",
      "50184/50184 [==============================] - 10s 205us/step - loss: 0.3755 - seg_output_loss: 0.1339 - cat_output_loss: 0.2416 - seg_output_fbeta_score: nan - seg_output_acc: 0.9517 - cat_output_fbeta_score: 0.9515 - cat_output_acc: 0.9519 - val_loss: 0.4807 - val_seg_output_loss: 0.1704 - val_cat_output_loss: 0.3103 - val_seg_output_fbeta_score: nan - val_seg_output_acc: 0.9277 - val_cat_output_fbeta_score: 0.9271 - val_cat_output_acc: 0.9404\n",
      "Epoch 20/20\n",
      "50184/50184 [==============================] - 10s 192us/step - loss: 0.3729 - seg_output_loss: 0.1327 - cat_output_loss: 0.2402 - seg_output_fbeta_score: nan - seg_output_acc: 0.9520 - cat_output_fbeta_score: 0.9515 - cat_output_acc: 0.9519 - val_loss: 0.4737 - val_seg_output_loss: 0.1679 - val_cat_output_loss: 0.3059 - val_seg_output_fbeta_score: nan - val_seg_output_acc: 0.9348 - val_cat_output_fbeta_score: 0.9284 - val_cat_output_acc: 0.9404\n"
     ]
    }
   ],
   "source": [
    "tweets_train, labels_train = tweets, labels\n",
    "\n",
    "window = 1\n",
    "\n",
    "y_cat_train, label2index_cat, _ = vectorize_labels(labels_train, index2label_cat)\n",
    "\n",
    "x_ortho_twitter_train = orthoencoding(ortho2index, tweets_train)\n",
    "\n",
    "labels_seg_train = map_to_binary(labels_train)\n",
    "\n",
    "index2label_seg = ['FALSE', 'TRUE']\n",
    "label2index_seg = { l:i for i, l in enumerate(index2label_seg) }\n",
    "\n",
    "lb = LabelBinarizer()\n",
    "y_seg_train = lb.fit_transform(flatten(labels_seg_train))\n",
    "\n",
    "pos_set, pos_hash, x_postag_train = pos_fun(tweets_train)\n",
    "\n",
    "index2postag = list(pos_set)\n",
    "\n",
    "ortho_dim = 30\n",
    "char_ortho_input = get_input_layer((ortho_max_length,), 'char_ortho')\n",
    "char_ortho_embed = rand_uniform_embedding_layer(char_ortho_input, \n",
    "                                                len(index2ortho), \n",
    "                                                ortho_dim, \n",
    "                                                ortho_max_length, \n",
    "                                                'char_ortho')\n",
    "\n",
    "char_encoded = char_ortho_embed\n",
    "\n",
    "char_encoded = get_char_cnn(char_encoded, 'char_encoded')\n",
    "char_encoder = Model(inputs=[char_ortho_input], outputs=[char_encoded])\n",
    "char_encoder.summary()\n",
    "\n",
    "postag_dim = 100\n",
    "postag_input = get_input_layer((window*1,), 'word_postag')\n",
    "postag_embed = rand_uniform_embedding_layer(postag_input, \n",
    "                                            len(index2postag)+1, \n",
    "                                            postag_dim,\n",
    "                                            window*1, \n",
    "                                            'word_postag')\n",
    "\n",
    "word_encoded = postag_embed\n",
    "word_encoded = Bidirectional(LSTM(100, \n",
    "                                  return_sequences=False, \n",
    "                                  dropout=0.2, \n",
    "                                  recurrent_dropout=0.2), \n",
    "                             name='word_encoded_blstm')(word_encoded)\n",
    "word_encoded = Dropout(0.5, name='word_encoded_blstm_dropout')(word_encoded)\n",
    "word_encoder = Model(inputs=[ \n",
    "                             postag_input, \n",
    "                             ], outputs=[word_encoded])\n",
    "word_encoder.summary()\n",
    "\n",
    "network = concatenate([char_encoded, word_encoded], name='concat_layer')\n",
    "network = Dense(100, activation='relu', name='common_dense_layer') (network)\n",
    "\n",
    "network = concatenate([char_encoded, word_encoded], name='concat_layer')\n",
    "network = Dense(100, activation='relu', name='common_dense_layer') (network)\n",
    "\n",
    "seg_output = Dense(1, activation='sigmoid', name='seg_output')(network)\n",
    "cat_output = Dense(len(index2label_cat), activation='softmax', name='cat_output')(network)\n",
    "\n",
    "word_inputs = [postag_input]\n",
    "char_inputs = [char_ortho_input]\n",
    "\n",
    "model = Model(inputs=  char_inputs + word_inputs, \n",
    "              outputs=[seg_output, cat_output], \n",
    "              name='ne_model')\n",
    "model.summary()\n",
    "\n",
    "adamax = Adamax(lr=0.001, beta_1=0.9, beta_2=0.999, epsilon=1e-08)\n",
    "model.compile(optimizer=adamax,\n",
    "              loss={'seg_output': 'binary_crossentropy', \n",
    "                    'cat_output': 'categorical_crossentropy'},\n",
    "              loss_weights={'seg_output': 1., \n",
    "                            'cat_output': 1.},\n",
    "              metrics={'seg_output': [fbeta_score, 'accuracy'],\n",
    "                       'cat_output': [fbeta_score, 'accuracy']})\n",
    "\n",
    "early_stopping = EarlyStopping(patience=20, verbose=1)\n",
    "# checkpointer = ModelCheckpoint(filepath='{}weights/{}.hdf5'.format(WEIGHTS_DIR, experiment),\n",
    "#                                save_best_only=True, verbose=1)\n",
    "\n",
    "train_word_values = [x_postag_train]\n",
    "train_char_values = [x_ortho_twitter_train]\n",
    "\n",
    "hist = model.fit(train_char_values + train_word_values, \n",
    "                 {'seg_output': y_seg_train, 'cat_output': y_cat_train}, \n",
    "                 batch_size=500, \n",
    "                 epochs=20, \n",
    "                 verbose=1, \n",
    "                 shuffle=True,\n",
    "                 validation_split=0.2,\n",
    "                 callbacks=[early_stopping])  # , checkpointer])"
   ]
  },
  {
   "cell_type": "markdown",
   "metadata": {},
   "source": [
    "## Predicting for the test.txt file"
   ]
  },
  {
   "cell_type": "code",
   "execution_count": 52,
   "metadata": {},
   "outputs": [
    {
     "name": "stdout",
     "output_type": "stream",
     "text": [
      "23394/23394 [==============================] - 1s 37us/step\n"
     ]
    }
   ],
   "source": [
    "with open('test.txt') as stream:\n",
    "    reader = csv.reader(stream, delimiter='\\t', quoting=csv.QUOTE_NONE)\n",
    "    labeled_tokens = [zip(*g) for k, g in groupby(reader, lambda x: not [s for s in x if s.strip()]) if not k]\n",
    "    tokens,= zip(*labeled_tokens)\n",
    "    tweets_test =  [list(t) for t in tokens]\n",
    "\n",
    "pos_set, pos_hash, x_postag_test = pos_fun(tweets_test)\n",
    "\n",
    "x_ortho_twitter_test = orthoencoding(ortho2index, tweets_test)\n",
    "\n",
    "# Predicting test data\n",
    "test_word_values = [x_postag_test]\n",
    "test_char_values = [x_ortho_twitter_test]\n",
    "\n",
    "\n",
    "prediction_probs = cat_model.predict(  \n",
    "                                     test_char_values + \n",
    "                                     test_word_values, batch_size=500, verbose=1)\n",
    "# Decoding predictions\n",
    "decoded_predictions = decode_predictions([np.argmax(p) for p in prediction_probs], index2label_cat)\n",
    "\n",
    "nn_model = Model(inputs=model.input, outputs=model.get_layer('common_dense_layer').output)\n",
    "\n",
    "def get_xseq(model, matrix):\n",
    "    xseq = [{'feat{}'.format(i):float(w) for i,w in enumerate(list(features))} \n",
    "            for features \n",
    "            in model.predict(matrix)]\n",
    "    return ItemSequence(xseq)\n",
    "\n",
    "xseq_train = get_xseq(nn_model,  train_char_values + train_word_values)\n",
    "yseq_train = flatten(labels_train)\n",
    "\n",
    "trainer = crf.Trainer(verbose=False)\n",
    "trainer.append(xseq_train, yseq_train)\n",
    "trainer.set_params({\n",
    "    'c1': 1.0,                           # L1 penalty\n",
    "    'c2': 1e-3,                          # L2 penalty\n",
    "    'max_iterations': 20,               # stop earlier\n",
    "    'feature.possible_transitions': True # possible transitions, but not observed\n",
    "})\n",
    "trainer.train('{}.pycrfsuite'.format(experiment))\n",
    "trainer.logparser.last_iteration\n",
    "\n",
    "tagger = crf.Tagger()\n",
    "tagger.open('{}.pycrfsuite'.format(experiment))\n",
    "\n",
    "# Predicting test data\n",
    "decoded_predictions = tagger.tag(get_xseq(nn_model, \n",
    "                                          test_char_values + \n",
    "                                          test_word_values))\n",
    "\n",
    "def save_final_predictions(filename, tweets, predictions):\n",
    "    \"\"\"save a file with token and its prediction in each row\"\"\"\n",
    "    dataset, i = [], 0\n",
    "    for n, tweet in enumerate(tweets):\n",
    "        tweet_data = list(zip(tweet, predictions[i:i + len(tweet)]))\n",
    "        i += len(tweet)\n",
    "        dataset += tweet_data + [()]\n",
    "    write_file(filename, dataset)\n",
    "    \n",
    "def write_file(filename, dataset, delimiter='\\t'):\n",
    "    \"\"\"dataset is a list of tweets where each token can be a tuple of n elements\"\"\"\n",
    "    with open(filename, '+w') as stream:\n",
    "        writer = csv.writer(stream, delimiter=delimiter, quoting=csv.QUOTE_NONE, quotechar='')\n",
    "        for tweet in dataset:\n",
    "            writer.writerow(list(tweet))\n",
    "\n",
    "save_final_predictions('output.txt', tweets_test, decoded_predictions)"
   ]
  },
  {
   "cell_type": "markdown",
   "metadata": {},
   "source": [
    "### Plotting the ouputs \n"
   ]
  },
  {
   "cell_type": "code",
   "execution_count": 114,
   "metadata": {
    "scrolled": true
   },
   "outputs": [
    {
     "data": {
      "text/plain": [
       "Text(0,0.5,'Frequency')"
      ]
     },
     "execution_count": 114,
     "metadata": {},
     "output_type": "execute_result"
    },
    {
     "data": {
      "image/png": "[encoded data removed]",
      "text/plain": [
       "<Figure size 1008x576 with 1 Axes>"
      ]
     },
     "metadata": {},
     "output_type": "display_data"
    }
   ],
   "source": [
    "ax = pd.DataFrame(list(Counter(decoded_predictions).values())).plot(kind='bar',\n",
    "                                    figsize=(14,8),\n",
    "                                    title=\"Number for each Labels\")\n",
    "ax.set_xlabel(\"Labels\")\n",
    "ax.set_ylabel(\"Frequency\")"
   ]
  },
  {
   "cell_type": "markdown",
   "metadata": {},
   "source": [
    "# Bonus"
   ]
  },
  {
   "cell_type": "code",
   "execution_count": 54,
   "metadata": {},
   "outputs": [
    {
     "data": {
      "text/plain": [
       "Text(0,0.5,'Frequency')"
      ]
     },
     "execution_count": 54,
     "metadata": {},
     "output_type": "execute_result"
    },
    {
     "data": {
      "image/png": "[encoded data removed]",
      "text/plain": [
       "<Figure size 1008x576 with 1 Axes>"
      ]
     },
     "metadata": {},
     "output_type": "display_data"
    }
   ],
   "source": [
    "predi_df = pd.DataFrame(prediction_probs)\n",
    "predi_df['max'] = predi_df.max(axis=1)\n",
    "\n",
    "kmeans = KMeans(n_clusters=2, random_state=0).fit(predi_df['max'].to_frame())\n",
    "\n",
    "predi_df['cluster'] = kmeans.labels_\n",
    "predi_df['cluster'] = abs(1-predi_df['cluster'])\n",
    "\n",
    "output_df = pd.read_csv('output.txt', sep='\\t', header=None, quoting=csv.QUOTE_NONE)\n",
    "output_df['Confidence'] = predi_df['cluster'] \n",
    "\n",
    "output_df.to_csv('bonus.txt', header=None, index=None, sep='\\t', mode='a', quoting=csv.QUOTE_NONE)\n",
    "\n",
    "ax = output_df['Confidence'].value_counts().plot(kind='bar',\n",
    "                                    figsize=(14,8),\n",
    "                                    title=\"Number for each Labels\")\n",
    "ax.set_xlabel(\"Labels\")\n",
    "ax.set_ylabel(\"Frequency\")"
   ]
  },
  {
   "cell_type": "code",
   "execution_count": null,
   "metadata": {},
   "outputs": [],
   "source": []
  },
  {
   "cell_type": "code",
   "execution_count": null,
   "metadata": {},
   "outputs": [],
   "source": []
  }
 ],
 "metadata": {
  "kernelspec": {
   "display_name": "Python 3",
   "language": "python",
   "name": "python3"
  },
  "language_info": {
   "codemirror_mode": {
    "name": "ipython",
    "version": 3
   },
   "file_extension": ".py",
   "mimetype": "text/x-python",
   "name": "python",
   "nbconvert_exporter": "python",
   "pygments_lexer": "ipython3",
   "version": "3.6.5"
  }
 },
 "nbformat": 4,
 "nbformat_minor": 2
}
